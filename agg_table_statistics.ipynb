{
 "cells": [
  {
   "cell_type": "markdown",
   "metadata": {},
   "source": [
    "# Pull aggregated table and calculate statistics"
   ]
  },
  {
   "cell_type": "code",
   "execution_count": 81,
   "metadata": {},
   "outputs": [],
   "source": [
    "import pandas as pd\n",
    "import numpy as np\n",
    "import psycopg2\n",
    "import pymongo\n",
    "import json\n",
    "import datetime\n",
    "import pickle\n",
    "import functions as fn\n",
    "import matplotlib.pyplot as plt \n",
    "%matplotlib inline"
   ]
  },
  {
   "cell_type": "code",
   "execution_count": 2,
   "metadata": {},
   "outputs": [],
   "source": [
    "# Retrieve information to connect to the database\n",
    "def get_keys(path):\n",
    "    with open(path) as f:\n",
    "        return json.load(f)\n",
    "    \n",
    "keys = get_keys(\"/Users/jjherranzsarrion/.secret/local_info.json\")\n",
    "username = keys['username']\n",
    "password = keys['password']"
   ]
  },
  {
   "cell_type": "code",
   "execution_count": 126,
   "metadata": {},
   "outputs": [],
   "source": [
    "# Connect to the venmo_transactions database\n",
    "connection = psycopg2.connect(user=f'{username}',\n",
    "                              password=f'{username}',\n",
    "                              database='venmo_transactions')\n",
    "cursor = connection.cursor()"
   ]
  },
  {
   "cell_type": "markdown",
   "metadata": {},
   "source": [
    "## Extract information to calculate features"
   ]
  },
  {
   "cell_type": "markdown",
   "metadata": {},
   "source": [
    "### Feature 1: Number of days the account has been opened"
   ]
  },
  {
   "cell_type": "code",
   "execution_count": 4,
   "metadata": {},
   "outputs": [
    {
     "name": "stdout",
     "output_type": "stream",
     "text": [
      "These are the different users and the date they joined venmo\n"
     ]
    },
    {
     "data": {
      "text/html": [
       "<div>\n",
       "<style scoped>\n",
       "    .dataframe tbody tr th:only-of-type {\n",
       "        vertical-align: middle;\n",
       "    }\n",
       "\n",
       "    .dataframe tbody tr th {\n",
       "        vertical-align: top;\n",
       "    }\n",
       "\n",
       "    .dataframe thead th {\n",
       "        text-align: right;\n",
       "    }\n",
       "</style>\n",
       "<table border=\"1\" class=\"dataframe\">\n",
       "  <thead>\n",
       "    <tr style=\"text-align: right;\">\n",
       "      <th></th>\n",
       "      <th>user_id</th>\n",
       "      <th>date_joined</th>\n",
       "      <th>days_since_opened_account</th>\n",
       "    </tr>\n",
       "  </thead>\n",
       "  <tbody>\n",
       "    <tr>\n",
       "      <th>0</th>\n",
       "      <td>2206066431492096327</td>\n",
       "      <td>2017-05-02</td>\n",
       "      <td>459 days</td>\n",
       "    </tr>\n",
       "    <tr>\n",
       "      <th>1</th>\n",
       "      <td>2200417693859840681</td>\n",
       "      <td>2017-04-24</td>\n",
       "      <td>467 days</td>\n",
       "    </tr>\n",
       "    <tr>\n",
       "      <th>2</th>\n",
       "      <td>2373608382922752189</td>\n",
       "      <td>2017-12-19</td>\n",
       "      <td>228 days</td>\n",
       "    </tr>\n",
       "    <tr>\n",
       "      <th>3</th>\n",
       "      <td>1670504276557824171</td>\n",
       "      <td>2015-04-24</td>\n",
       "      <td>1198 days</td>\n",
       "    </tr>\n",
       "    <tr>\n",
       "      <th>4</th>\n",
       "      <td>1957419122950144676</td>\n",
       "      <td>2016-05-24</td>\n",
       "      <td>802 days</td>\n",
       "    </tr>\n",
       "  </tbody>\n",
       "</table>\n",
       "</div>"
      ],
      "text/plain": [
       "               user_id date_joined days_since_opened_account\n",
       "0  2206066431492096327  2017-05-02                  459 days\n",
       "1  2200417693859840681  2017-04-24                  467 days\n",
       "2  2373608382922752189  2017-12-19                  228 days\n",
       "3  1670504276557824171  2015-04-24                 1198 days\n",
       "4  1957419122950144676  2016-05-24                  802 days"
      ]
     },
     "execution_count": 4,
     "metadata": {},
     "output_type": "execute_result"
    }
   ],
   "source": [
    "q = \"\"\"SELECT user_id, date_joined::timestamp::date\n",
    "       FROM users\"\"\"\n",
    "cursor.execute(q)\n",
    "print(\"These are the different users and the date they joined venmo\")\n",
    "df = pd.DataFrame(cursor.fetchall())\n",
    "df.columns = [x[0] for x in cursor.description]\n",
    "df['days_since_opened_account'] = datetime.date(2018, 8, 4) - df['date_joined']\n",
    "df.head()"
   ]
  },
  {
   "cell_type": "markdown",
   "metadata": {},
   "source": [
    "### Feature 2: Maximum time between previous transaction made"
   ]
  },
  {
   "cell_type": "code",
   "execution_count": 5,
   "metadata": {},
   "outputs": [],
   "source": [
    "#q = \"\"\"SELECT p1.actor_id, p1.payment_id, p1.date_completed::timestamp::date,\n",
    "#              (p2.date_completed::timestamp::date - p1.date_completed::timestamp::date) as date_diff\n",
    "#       FROM payments p1\n",
    "#       INNER JOIN payments p2 USING (actor_id)\n",
    "#       WHERE p1.actor_id = p2.actor_id \n",
    "#       AND p1.payment_id <> p2.payment_id\n",
    "#       ORDER BY p1.date_completed::timestamp::date;\"\"\"\n",
    "#cursor.execute(q)\n",
    "#print(\"These are the different users and the date they joined venmo\")\n",
    "#df = pd.DataFrame(cursor.fetchall())\n",
    "#df.columns = [x[0] for x in cursor.description]\n",
    "#df.head()"
   ]
  },
  {
   "cell_type": "code",
   "execution_count": 40,
   "metadata": {},
   "outputs": [
    {
     "data": {
      "text/html": [
       "<div>\n",
       "<style scoped>\n",
       "    .dataframe tbody tr th:only-of-type {\n",
       "        vertical-align: middle;\n",
       "    }\n",
       "\n",
       "    .dataframe tbody tr th {\n",
       "        vertical-align: top;\n",
       "    }\n",
       "\n",
       "    .dataframe thead th {\n",
       "        text-align: right;\n",
       "    }\n",
       "</style>\n",
       "<table border=\"1\" class=\"dataframe\">\n",
       "  <thead>\n",
       "    <tr style=\"text-align: right;\">\n",
       "      <th></th>\n",
       "      <th>actor_id</th>\n",
       "      <th>payment_id</th>\n",
       "      <th>date_created</th>\n",
       "    </tr>\n",
       "  </thead>\n",
       "  <tbody>\n",
       "    <tr>\n",
       "      <th>0</th>\n",
       "      <td>2060549944770560092</td>\n",
       "      <td>2532208900736811493</td>\n",
       "      <td>2018-07-26 18:47:04</td>\n",
       "    </tr>\n",
       "    <tr>\n",
       "      <th>1</th>\n",
       "      <td>2240373455847424319</td>\n",
       "      <td>2532208900367712690</td>\n",
       "      <td>2018-07-26 18:47:04</td>\n",
       "    </tr>\n",
       "    <tr>\n",
       "      <th>2</th>\n",
       "      <td>1774156567805952179</td>\n",
       "      <td>2532208907070210710</td>\n",
       "      <td>2018-07-26 18:47:04</td>\n",
       "    </tr>\n",
       "    <tr>\n",
       "      <th>3</th>\n",
       "      <td>1775535923396608366</td>\n",
       "      <td>2532208902397756302</td>\n",
       "      <td>2018-07-26 18:47:04</td>\n",
       "    </tr>\n",
       "    <tr>\n",
       "      <th>4</th>\n",
       "      <td>2147341310099456314</td>\n",
       "      <td>2532208900720034121</td>\n",
       "      <td>2018-07-26 18:47:04</td>\n",
       "    </tr>\n",
       "  </tbody>\n",
       "</table>\n",
       "</div>"
      ],
      "text/plain": [
       "              actor_id           payment_id        date_created\n",
       "0  2060549944770560092  2532208900736811493 2018-07-26 18:47:04\n",
       "1  2240373455847424319  2532208900367712690 2018-07-26 18:47:04\n",
       "2  1774156567805952179  2532208907070210710 2018-07-26 18:47:04\n",
       "3  1775535923396608366  2532208902397756302 2018-07-26 18:47:04\n",
       "4  2147341310099456314  2532208900720034121 2018-07-26 18:47:04"
      ]
     },
     "execution_count": 40,
     "metadata": {},
     "output_type": "execute_result"
    }
   ],
   "source": [
    "q = \"\"\"SELECT p.actor_id, p.payment_id, p.date_created\n",
    "       FROM payments p\n",
    "       ORDER BY p.date_created;\"\"\"\n",
    "cursor.execute(q)\n",
    "#print(\"These are the different users and the date they joined venmo\")\n",
    "df = pd.DataFrame(cursor.fetchall())\n",
    "df.columns = [x[0] for x in cursor.description]\n",
    "df.head()"
   ]
  },
  {
   "cell_type": "code",
   "execution_count": 41,
   "metadata": {
    "scrolled": true
   },
   "outputs": [],
   "source": [
    "df['time_diff'] = df.groupby(['actor_id'])['date_created'].diff().fillna(0)"
   ]
  },
  {
   "cell_type": "code",
   "execution_count": 9,
   "metadata": {},
   "outputs": [],
   "source": [
    "max_time_between_payed_transactions_df = pd.DataFrame(df.groupby(['actor_id'])['time_diff'].max())\n",
    "max_time_between_payed_transactions_df.reset_index(inplace=True)"
   ]
  },
  {
   "cell_type": "code",
   "execution_count": 10,
   "metadata": {},
   "outputs": [
    {
     "data": {
      "text/html": [
       "<div>\n",
       "<style scoped>\n",
       "    .dataframe tbody tr th:only-of-type {\n",
       "        vertical-align: middle;\n",
       "    }\n",
       "\n",
       "    .dataframe tbody tr th {\n",
       "        vertical-align: top;\n",
       "    }\n",
       "\n",
       "    .dataframe thead th {\n",
       "        text-align: right;\n",
       "    }\n",
       "</style>\n",
       "<table border=\"1\" class=\"dataframe\">\n",
       "  <thead>\n",
       "    <tr style=\"text-align: right;\">\n",
       "      <th></th>\n",
       "      <th>actor_id</th>\n",
       "      <th>time_diff</th>\n",
       "    </tr>\n",
       "  </thead>\n",
       "  <tbody>\n",
       "    <tr>\n",
       "      <th>88039</th>\n",
       "      <td>1783765785378816488</td>\n",
       "      <td>9 days 11:50:52</td>\n",
       "    </tr>\n",
       "    <tr>\n",
       "      <th>45698</th>\n",
       "      <td>1602911490539520615</td>\n",
       "      <td>8 days 14:33:55</td>\n",
       "    </tr>\n",
       "    <tr>\n",
       "      <th>114165</th>\n",
       "      <td>1878396959195136941</td>\n",
       "      <td>2 days 21:37:17</td>\n",
       "    </tr>\n",
       "    <tr>\n",
       "      <th>143629</th>\n",
       "      <td>1977756673900544227</td>\n",
       "      <td>2 days 21:27:14</td>\n",
       "    </tr>\n",
       "    <tr>\n",
       "      <th>160632</th>\n",
       "      <td>2026905133907968295</td>\n",
       "      <td>2 days 21:19:39</td>\n",
       "    </tr>\n",
       "  </tbody>\n",
       "</table>\n",
       "</div>"
      ],
      "text/plain": [
       "                   actor_id       time_diff\n",
       "88039   1783765785378816488 9 days 11:50:52\n",
       "45698   1602911490539520615 8 days 14:33:55\n",
       "114165  1878396959195136941 2 days 21:37:17\n",
       "143629  1977756673900544227 2 days 21:27:14\n",
       "160632  2026905133907968295 2 days 21:19:39"
      ]
     },
     "execution_count": 10,
     "metadata": {},
     "output_type": "execute_result"
    }
   ],
   "source": [
    "max_time_between_payed_transactions_df.sort_values('time_diff', ascending=False).head()"
   ]
  },
  {
   "cell_type": "markdown",
   "metadata": {},
   "source": [
    "### Feature 3: Maximum time between previous transaction received"
   ]
  },
  {
   "cell_type": "code",
   "execution_count": 11,
   "metadata": {},
   "outputs": [
    {
     "data": {
      "text/html": [
       "<div>\n",
       "<style scoped>\n",
       "    .dataframe tbody tr th:only-of-type {\n",
       "        vertical-align: middle;\n",
       "    }\n",
       "\n",
       "    .dataframe tbody tr th {\n",
       "        vertical-align: top;\n",
       "    }\n",
       "\n",
       "    .dataframe thead th {\n",
       "        text-align: right;\n",
       "    }\n",
       "</style>\n",
       "<table border=\"1\" class=\"dataframe\">\n",
       "  <thead>\n",
       "    <tr style=\"text-align: right;\">\n",
       "      <th></th>\n",
       "      <th>target_user_id</th>\n",
       "      <th>payment_id</th>\n",
       "      <th>date_created</th>\n",
       "    </tr>\n",
       "  </thead>\n",
       "  <tbody>\n",
       "    <tr>\n",
       "      <th>0</th>\n",
       "      <td>2012536740249600786</td>\n",
       "      <td>2532208900736811493</td>\n",
       "      <td>2018-07-26 18:47:04</td>\n",
       "    </tr>\n",
       "    <tr>\n",
       "      <th>1</th>\n",
       "      <td>2054553574834176086</td>\n",
       "      <td>2532208900367712690</td>\n",
       "      <td>2018-07-26 18:47:04</td>\n",
       "    </tr>\n",
       "    <tr>\n",
       "      <th>2</th>\n",
       "      <td>2363997714120704529</td>\n",
       "      <td>2532208907070210710</td>\n",
       "      <td>2018-07-26 18:47:04</td>\n",
       "    </tr>\n",
       "    <tr>\n",
       "      <th>3</th>\n",
       "      <td>1934351583412224902</td>\n",
       "      <td>2532208902397756302</td>\n",
       "      <td>2018-07-26 18:47:04</td>\n",
       "    </tr>\n",
       "    <tr>\n",
       "      <th>4</th>\n",
       "      <td>2377356102598656077</td>\n",
       "      <td>2532208900720034121</td>\n",
       "      <td>2018-07-26 18:47:04</td>\n",
       "    </tr>\n",
       "  </tbody>\n",
       "</table>\n",
       "</div>"
      ],
      "text/plain": [
       "        target_user_id           payment_id        date_created\n",
       "0  2012536740249600786  2532208900736811493 2018-07-26 18:47:04\n",
       "1  2054553574834176086  2532208900367712690 2018-07-26 18:47:04\n",
       "2  2363997714120704529  2532208907070210710 2018-07-26 18:47:04\n",
       "3  1934351583412224902  2532208902397756302 2018-07-26 18:47:04\n",
       "4  2377356102598656077  2532208900720034121 2018-07-26 18:47:04"
      ]
     },
     "execution_count": 11,
     "metadata": {},
     "output_type": "execute_result"
    }
   ],
   "source": [
    "q = \"\"\"SELECT p.target_user_id, p.payment_id, p.date_created\n",
    "       FROM payments p\n",
    "       ORDER BY p.date_created;\"\"\"\n",
    "cursor.execute(q)\n",
    "#print(\"These are the different users and the date they joined venmo\")\n",
    "df = pd.DataFrame(cursor.fetchall())\n",
    "df.columns = [x[0] for x in cursor.description]\n",
    "df.head()"
   ]
  },
  {
   "cell_type": "code",
   "execution_count": 12,
   "metadata": {},
   "outputs": [],
   "source": [
    "df['time_diff'] = df.groupby(['target_user_id'])['date_created'].diff().fillna(0)"
   ]
  },
  {
   "cell_type": "code",
   "execution_count": 13,
   "metadata": {},
   "outputs": [],
   "source": [
    "max_time_between_received_transactions_df = pd.DataFrame(df.groupby(['target_user_id'])['time_diff'].max())\n",
    "max_time_between_received_transactions_df.reset_index(inplace=True)"
   ]
  },
  {
   "cell_type": "code",
   "execution_count": 15,
   "metadata": {},
   "outputs": [
    {
     "data": {
      "text/html": [
       "<div>\n",
       "<style scoped>\n",
       "    .dataframe tbody tr th:only-of-type {\n",
       "        vertical-align: middle;\n",
       "    }\n",
       "\n",
       "    .dataframe tbody tr th {\n",
       "        vertical-align: top;\n",
       "    }\n",
       "\n",
       "    .dataframe thead th {\n",
       "        text-align: right;\n",
       "    }\n",
       "</style>\n",
       "<table border=\"1\" class=\"dataframe\">\n",
       "  <thead>\n",
       "    <tr style=\"text-align: right;\">\n",
       "      <th></th>\n",
       "      <th>target_user_id</th>\n",
       "      <th>time_diff</th>\n",
       "    </tr>\n",
       "  </thead>\n",
       "  <tbody>\n",
       "    <tr>\n",
       "      <th>1481</th>\n",
       "      <td>1159040721747968512</td>\n",
       "      <td>10 days 21:58:10</td>\n",
       "    </tr>\n",
       "    <tr>\n",
       "      <th>106701</th>\n",
       "      <td>1857555538116608403</td>\n",
       "      <td>9 days 11:50:52</td>\n",
       "    </tr>\n",
       "    <tr>\n",
       "      <th>22860</th>\n",
       "      <td>1466121689497600896</td>\n",
       "      <td>9 days 06:01:55</td>\n",
       "    </tr>\n",
       "    <tr>\n",
       "      <th>177151</th>\n",
       "      <td>2067898642202624968</td>\n",
       "      <td>2 days 21:23:12</td>\n",
       "    </tr>\n",
       "    <tr>\n",
       "      <th>175527</th>\n",
       "      <td>2063808608600064345</td>\n",
       "      <td>2 days 21:18:41</td>\n",
       "    </tr>\n",
       "  </tbody>\n",
       "</table>\n",
       "</div>"
      ],
      "text/plain": [
       "             target_user_id        time_diff\n",
       "1481    1159040721747968512 10 days 21:58:10\n",
       "106701  1857555538116608403  9 days 11:50:52\n",
       "22860   1466121689497600896  9 days 06:01:55\n",
       "177151  2067898642202624968  2 days 21:23:12\n",
       "175527  2063808608600064345  2 days 21:18:41"
      ]
     },
     "execution_count": 15,
     "metadata": {},
     "output_type": "execute_result"
    }
   ],
   "source": [
    "max_time_between_received_transactions_df.sort_values('time_diff', ascending=False).head()"
   ]
  },
  {
   "cell_type": "markdown",
   "metadata": {},
   "source": [
    "### Feature 4: Mean time (in seconds) between transactions made"
   ]
  },
  {
   "cell_type": "code",
   "execution_count": 77,
   "metadata": {},
   "outputs": [
    {
     "data": {
      "text/html": [
       "<div>\n",
       "<style scoped>\n",
       "    .dataframe tbody tr th:only-of-type {\n",
       "        vertical-align: middle;\n",
       "    }\n",
       "\n",
       "    .dataframe tbody tr th {\n",
       "        vertical-align: top;\n",
       "    }\n",
       "\n",
       "    .dataframe thead th {\n",
       "        text-align: right;\n",
       "    }\n",
       "</style>\n",
       "<table border=\"1\" class=\"dataframe\">\n",
       "  <thead>\n",
       "    <tr style=\"text-align: right;\">\n",
       "      <th></th>\n",
       "      <th>actor_id</th>\n",
       "      <th>payment_id</th>\n",
       "      <th>date_created</th>\n",
       "    </tr>\n",
       "  </thead>\n",
       "  <tbody>\n",
       "    <tr>\n",
       "      <th>0</th>\n",
       "      <td>2060549944770560092</td>\n",
       "      <td>2532208900736811493</td>\n",
       "      <td>2018-07-26 18:47:04</td>\n",
       "    </tr>\n",
       "    <tr>\n",
       "      <th>1</th>\n",
       "      <td>2240373455847424319</td>\n",
       "      <td>2532208900367712690</td>\n",
       "      <td>2018-07-26 18:47:04</td>\n",
       "    </tr>\n",
       "    <tr>\n",
       "      <th>2</th>\n",
       "      <td>1774156567805952179</td>\n",
       "      <td>2532208907070210710</td>\n",
       "      <td>2018-07-26 18:47:04</td>\n",
       "    </tr>\n",
       "    <tr>\n",
       "      <th>3</th>\n",
       "      <td>1775535923396608366</td>\n",
       "      <td>2532208902397756302</td>\n",
       "      <td>2018-07-26 18:47:04</td>\n",
       "    </tr>\n",
       "    <tr>\n",
       "      <th>4</th>\n",
       "      <td>2147341310099456314</td>\n",
       "      <td>2532208900720034121</td>\n",
       "      <td>2018-07-26 18:47:04</td>\n",
       "    </tr>\n",
       "  </tbody>\n",
       "</table>\n",
       "</div>"
      ],
      "text/plain": [
       "              actor_id           payment_id        date_created\n",
       "0  2060549944770560092  2532208900736811493 2018-07-26 18:47:04\n",
       "1  2240373455847424319  2532208900367712690 2018-07-26 18:47:04\n",
       "2  1774156567805952179  2532208907070210710 2018-07-26 18:47:04\n",
       "3  1775535923396608366  2532208902397756302 2018-07-26 18:47:04\n",
       "4  2147341310099456314  2532208900720034121 2018-07-26 18:47:04"
      ]
     },
     "execution_count": 77,
     "metadata": {},
     "output_type": "execute_result"
    }
   ],
   "source": [
    "q = \"\"\"SELECT p.actor_id, p.payment_id, p.date_created\n",
    "       FROM payments p\n",
    "       ORDER BY p.date_created;\"\"\"\n",
    "cursor.execute(q)\n",
    "#print(\"These are the different users and the date they joined venmo\")\n",
    "df = pd.DataFrame(cursor.fetchall())\n",
    "df.columns = [x[0] for x in cursor.description]\n",
    "df.head()"
   ]
  },
  {
   "cell_type": "code",
   "execution_count": 82,
   "metadata": {},
   "outputs": [],
   "source": [
    "# Decide to not fill nans because if we fill them with zero, it will have an influence in \n",
    "# the mean time between transactions\n",
    "df['time_diff'] = df.groupby(['actor_id'])['date_created'].diff().fillna(0)"
   ]
  },
  {
   "cell_type": "code",
   "execution_count": 83,
   "metadata": {},
   "outputs": [],
   "source": [
    "df['time_diff'] = [diff.seconds for diff in df['time_diff']]"
   ]
  },
  {
   "cell_type": "code",
   "execution_count": 84,
   "metadata": {
    "scrolled": false
   },
   "outputs": [],
   "source": [
    "mean_time_between_transactions_made_df = pd.DataFrame(df.groupby(['actor_id'])['time_diff'].mean())\n",
    "mean_time_between_transactions_made_df.reset_index(inplace=True)"
   ]
  },
  {
   "cell_type": "code",
   "execution_count": 85,
   "metadata": {},
   "outputs": [],
   "source": [
    "mean_time_between_transactions_made_df['time_diff'].fillna(0, inplace=True)"
   ]
  },
  {
   "cell_type": "code",
   "execution_count": 86,
   "metadata": {
    "scrolled": true
   },
   "outputs": [
    {
     "data": {
      "text/html": [
       "<div>\n",
       "<style scoped>\n",
       "    .dataframe tbody tr th:only-of-type {\n",
       "        vertical-align: middle;\n",
       "    }\n",
       "\n",
       "    .dataframe tbody tr th {\n",
       "        vertical-align: top;\n",
       "    }\n",
       "\n",
       "    .dataframe thead th {\n",
       "        text-align: right;\n",
       "    }\n",
       "</style>\n",
       "<table border=\"1\" class=\"dataframe\">\n",
       "  <thead>\n",
       "    <tr style=\"text-align: right;\">\n",
       "      <th></th>\n",
       "      <th>actor_id</th>\n",
       "      <th>time_diff</th>\n",
       "    </tr>\n",
       "  </thead>\n",
       "  <tbody>\n",
       "    <tr>\n",
       "      <th>235373</th>\n",
       "      <td>2241640949350400344</td>\n",
       "      <td>53821.666667</td>\n",
       "    </tr>\n",
       "    <tr>\n",
       "      <th>315174</th>\n",
       "      <td>2500382899044352278</td>\n",
       "      <td>53790.333333</td>\n",
       "    </tr>\n",
       "    <tr>\n",
       "      <th>52647</th>\n",
       "      <td>1636575721029632364</td>\n",
       "      <td>53469.333333</td>\n",
       "    </tr>\n",
       "    <tr>\n",
       "      <th>226836</th>\n",
       "      <td>2214991784574976899</td>\n",
       "      <td>53164.666667</td>\n",
       "    </tr>\n",
       "    <tr>\n",
       "      <th>92325</th>\n",
       "      <td>1798101538963456728</td>\n",
       "      <td>51969.000000</td>\n",
       "    </tr>\n",
       "  </tbody>\n",
       "</table>\n",
       "</div>"
      ],
      "text/plain": [
       "                   actor_id     time_diff\n",
       "235373  2241640949350400344  53821.666667\n",
       "315174  2500382899044352278  53790.333333\n",
       "52647   1636575721029632364  53469.333333\n",
       "226836  2214991784574976899  53164.666667\n",
       "92325   1798101538963456728  51969.000000"
      ]
     },
     "execution_count": 86,
     "metadata": {},
     "output_type": "execute_result"
    }
   ],
   "source": [
    "mean_time_between_transactions_made_df.sort_values('time_diff', ascending=False).head()"
   ]
  },
  {
   "cell_type": "markdown",
   "metadata": {},
   "source": [
    "### Feature 5: Mean time (in seconds) between transactions received"
   ]
  },
  {
   "cell_type": "code",
   "execution_count": 87,
   "metadata": {},
   "outputs": [
    {
     "data": {
      "text/html": [
       "<div>\n",
       "<style scoped>\n",
       "    .dataframe tbody tr th:only-of-type {\n",
       "        vertical-align: middle;\n",
       "    }\n",
       "\n",
       "    .dataframe tbody tr th {\n",
       "        vertical-align: top;\n",
       "    }\n",
       "\n",
       "    .dataframe thead th {\n",
       "        text-align: right;\n",
       "    }\n",
       "</style>\n",
       "<table border=\"1\" class=\"dataframe\">\n",
       "  <thead>\n",
       "    <tr style=\"text-align: right;\">\n",
       "      <th></th>\n",
       "      <th>target_user_id</th>\n",
       "      <th>payment_id</th>\n",
       "      <th>date_created</th>\n",
       "    </tr>\n",
       "  </thead>\n",
       "  <tbody>\n",
       "    <tr>\n",
       "      <th>0</th>\n",
       "      <td>2012536740249600786</td>\n",
       "      <td>2532208900736811493</td>\n",
       "      <td>2018-07-26 18:47:04</td>\n",
       "    </tr>\n",
       "    <tr>\n",
       "      <th>1</th>\n",
       "      <td>2054553574834176086</td>\n",
       "      <td>2532208900367712690</td>\n",
       "      <td>2018-07-26 18:47:04</td>\n",
       "    </tr>\n",
       "    <tr>\n",
       "      <th>2</th>\n",
       "      <td>2363997714120704529</td>\n",
       "      <td>2532208907070210710</td>\n",
       "      <td>2018-07-26 18:47:04</td>\n",
       "    </tr>\n",
       "    <tr>\n",
       "      <th>3</th>\n",
       "      <td>1934351583412224902</td>\n",
       "      <td>2532208902397756302</td>\n",
       "      <td>2018-07-26 18:47:04</td>\n",
       "    </tr>\n",
       "    <tr>\n",
       "      <th>4</th>\n",
       "      <td>2377356102598656077</td>\n",
       "      <td>2532208900720034121</td>\n",
       "      <td>2018-07-26 18:47:04</td>\n",
       "    </tr>\n",
       "  </tbody>\n",
       "</table>\n",
       "</div>"
      ],
      "text/plain": [
       "        target_user_id           payment_id        date_created\n",
       "0  2012536740249600786  2532208900736811493 2018-07-26 18:47:04\n",
       "1  2054553574834176086  2532208900367712690 2018-07-26 18:47:04\n",
       "2  2363997714120704529  2532208907070210710 2018-07-26 18:47:04\n",
       "3  1934351583412224902  2532208902397756302 2018-07-26 18:47:04\n",
       "4  2377356102598656077  2532208900720034121 2018-07-26 18:47:04"
      ]
     },
     "execution_count": 87,
     "metadata": {},
     "output_type": "execute_result"
    }
   ],
   "source": [
    "q = \"\"\"SELECT p.target_user_id, p.payment_id, p.date_created\n",
    "       FROM payments p\n",
    "       ORDER BY p.date_created;\"\"\"\n",
    "cursor.execute(q)\n",
    "#print(\"These are the different users and the date they joined venmo\")\n",
    "df = pd.DataFrame(cursor.fetchall())\n",
    "df.columns = [x[0] for x in cursor.description]\n",
    "df.head()"
   ]
  },
  {
   "cell_type": "code",
   "execution_count": 90,
   "metadata": {},
   "outputs": [],
   "source": [
    "# Decide to dropna because if we fill them with zero, it will have an influence in the mean time between transactions\n",
    "df['time_diff'] = df.groupby(['target_user_id'])['date_created'].diff().fillna(0)"
   ]
  },
  {
   "cell_type": "code",
   "execution_count": 95,
   "metadata": {},
   "outputs": [],
   "source": [
    "df['time_diff'] = [diff.seconds for diff in df['time_diff']]"
   ]
  },
  {
   "cell_type": "code",
   "execution_count": 96,
   "metadata": {},
   "outputs": [],
   "source": [
    "mean_time_between_received_transactions_df = pd.DataFrame(df.groupby(['target_user_id'])['time_diff'].mean())\n",
    "mean_time_between_received_transactions_df.reset_index(inplace=True)"
   ]
  },
  {
   "cell_type": "code",
   "execution_count": 97,
   "metadata": {},
   "outputs": [],
   "source": [
    "mean_time_between_received_transactions_df['time_diff'].fillna(0, inplace=True)"
   ]
  },
  {
   "cell_type": "code",
   "execution_count": 98,
   "metadata": {},
   "outputs": [
    {
     "data": {
      "text/html": [
       "<div>\n",
       "<style scoped>\n",
       "    .dataframe tbody tr th:only-of-type {\n",
       "        vertical-align: middle;\n",
       "    }\n",
       "\n",
       "    .dataframe tbody tr th {\n",
       "        vertical-align: top;\n",
       "    }\n",
       "\n",
       "    .dataframe thead th {\n",
       "        text-align: right;\n",
       "    }\n",
       "</style>\n",
       "<table border=\"1\" class=\"dataframe\">\n",
       "  <thead>\n",
       "    <tr style=\"text-align: right;\">\n",
       "      <th></th>\n",
       "      <th>target_user_id</th>\n",
       "      <th>time_diff</th>\n",
       "    </tr>\n",
       "  </thead>\n",
       "  <tbody>\n",
       "    <tr>\n",
       "      <th>198183</th>\n",
       "      <td>2133550170112000107</td>\n",
       "      <td>55037.000000</td>\n",
       "    </tr>\n",
       "    <tr>\n",
       "      <th>258029</th>\n",
       "      <td>2309533586161664911</td>\n",
       "      <td>53790.333333</td>\n",
       "    </tr>\n",
       "    <tr>\n",
       "      <th>128271</th>\n",
       "      <td>1931709155115008424</td>\n",
       "      <td>53734.333333</td>\n",
       "    </tr>\n",
       "    <tr>\n",
       "      <th>220482</th>\n",
       "      <td>2205206532063232444</td>\n",
       "      <td>53544.333333</td>\n",
       "    </tr>\n",
       "    <tr>\n",
       "      <th>278130</th>\n",
       "      <td>2381033911615488261</td>\n",
       "      <td>53164.666667</td>\n",
       "    </tr>\n",
       "  </tbody>\n",
       "</table>\n",
       "</div>"
      ],
      "text/plain": [
       "             target_user_id     time_diff\n",
       "198183  2133550170112000107  55037.000000\n",
       "258029  2309533586161664911  53790.333333\n",
       "128271  1931709155115008424  53734.333333\n",
       "220482  2205206532063232444  53544.333333\n",
       "278130  2381033911615488261  53164.666667"
      ]
     },
     "execution_count": 98,
     "metadata": {},
     "output_type": "execute_result"
    }
   ],
   "source": [
    "mean_time_between_received_transactions_df.sort_values('time_diff', ascending=False).head()"
   ]
  },
  {
   "cell_type": "markdown",
   "metadata": {},
   "source": [
    "### Feature 6: Total number of transactions made"
   ]
  },
  {
   "cell_type": "code",
   "execution_count": 110,
   "metadata": {},
   "outputs": [
    {
     "data": {
      "text/html": [
       "<div>\n",
       "<style scoped>\n",
       "    .dataframe tbody tr th:only-of-type {\n",
       "        vertical-align: middle;\n",
       "    }\n",
       "\n",
       "    .dataframe tbody tr th {\n",
       "        vertical-align: top;\n",
       "    }\n",
       "\n",
       "    .dataframe thead th {\n",
       "        text-align: right;\n",
       "    }\n",
       "</style>\n",
       "<table border=\"1\" class=\"dataframe\">\n",
       "  <thead>\n",
       "    <tr style=\"text-align: right;\">\n",
       "      <th></th>\n",
       "      <th>actor_id</th>\n",
       "      <th>count</th>\n",
       "    </tr>\n",
       "  </thead>\n",
       "  <tbody>\n",
       "    <tr>\n",
       "      <th>0</th>\n",
       "      <td>1000140982714368204</td>\n",
       "      <td>1</td>\n",
       "    </tr>\n",
       "    <tr>\n",
       "      <th>1</th>\n",
       "      <td>1000155285291008202</td>\n",
       "      <td>1</td>\n",
       "    </tr>\n",
       "    <tr>\n",
       "      <th>2</th>\n",
       "      <td>1000703229165568682</td>\n",
       "      <td>1</td>\n",
       "    </tr>\n",
       "    <tr>\n",
       "      <th>3</th>\n",
       "      <td>1000730617970688429</td>\n",
       "      <td>1</td>\n",
       "    </tr>\n",
       "    <tr>\n",
       "      <th>4</th>\n",
       "      <td>1000749978877952908</td>\n",
       "      <td>1</td>\n",
       "    </tr>\n",
       "  </tbody>\n",
       "</table>\n",
       "</div>"
      ],
      "text/plain": [
       "              actor_id  count\n",
       "0  1000140982714368204      1\n",
       "1  1000155285291008202      1\n",
       "2  1000703229165568682      1\n",
       "3  1000730617970688429      1\n",
       "4  1000749978877952908      1"
      ]
     },
     "execution_count": 110,
     "metadata": {},
     "output_type": "execute_result"
    }
   ],
   "source": [
    "q = \"\"\"SELECT p.actor_id, COUNT (DISTINCT p.payment_id)\n",
    "       FROM payments p\n",
    "       GROUP BY p.actor_id;\"\"\"\n",
    "cursor.execute(q)\n",
    "#print(\"These are the different users and the date they joined venmo\")\n",
    "df = pd.DataFrame(cursor.fetchall())\n",
    "df.columns = [x[0] for x in cursor.description]\n",
    "df.head()"
   ]
  },
  {
   "cell_type": "markdown",
   "metadata": {},
   "source": [
    "### Feature 6: Total number of transactions received"
   ]
  },
  {
   "cell_type": "code",
   "execution_count": 116,
   "metadata": {},
   "outputs": [
    {
     "data": {
      "text/html": [
       "<div>\n",
       "<style scoped>\n",
       "    .dataframe tbody tr th:only-of-type {\n",
       "        vertical-align: middle;\n",
       "    }\n",
       "\n",
       "    .dataframe tbody tr th {\n",
       "        vertical-align: top;\n",
       "    }\n",
       "\n",
       "    .dataframe thead th {\n",
       "        text-align: right;\n",
       "    }\n",
       "</style>\n",
       "<table border=\"1\" class=\"dataframe\">\n",
       "  <thead>\n",
       "    <tr style=\"text-align: right;\">\n",
       "      <th></th>\n",
       "      <th>target_user_id</th>\n",
       "      <th>count</th>\n",
       "    </tr>\n",
       "  </thead>\n",
       "  <tbody>\n",
       "    <tr>\n",
       "      <th>0</th>\n",
       "      <td>1000025236701184812</td>\n",
       "      <td>1</td>\n",
       "    </tr>\n",
       "    <tr>\n",
       "      <th>1</th>\n",
       "      <td>1000244103872512884</td>\n",
       "      <td>1</td>\n",
       "    </tr>\n",
       "    <tr>\n",
       "      <th>2</th>\n",
       "      <td>1000287095488512647</td>\n",
       "      <td>1</td>\n",
       "    </tr>\n",
       "    <tr>\n",
       "      <th>3</th>\n",
       "      <td>1000332008095744106</td>\n",
       "      <td>1</td>\n",
       "    </tr>\n",
       "    <tr>\n",
       "      <th>4</th>\n",
       "      <td>1000419081846784785</td>\n",
       "      <td>1</td>\n",
       "    </tr>\n",
       "  </tbody>\n",
       "</table>\n",
       "</div>"
      ],
      "text/plain": [
       "        target_user_id  count\n",
       "0  1000025236701184812      1\n",
       "1  1000244103872512884      1\n",
       "2  1000287095488512647      1\n",
       "3  1000332008095744106      1\n",
       "4  1000419081846784785      1"
      ]
     },
     "execution_count": 116,
     "metadata": {},
     "output_type": "execute_result"
    }
   ],
   "source": [
    "q = \"\"\"SELECT p.target_user_id, COUNT (DISTINCT p.payment_id)\n",
    "       FROM payments p\n",
    "       GROUP BY p.target_user_id;\"\"\"\n",
    "cursor.execute(q)\n",
    "#print(\"These are the different users and the date they joined venmo\")\n",
    "df = pd.DataFrame(cursor.fetchall())\n",
    "df.columns = [x[0] for x in cursor.description]\n",
    "df.head()"
   ]
  },
  {
   "cell_type": "markdown",
   "metadata": {},
   "source": [
    "### Feature 7: Total number of transactions made in the past week"
   ]
  },
  {
   "cell_type": "code",
   "execution_count": 152,
   "metadata": {
    "scrolled": true
   },
   "outputs": [
    {
     "data": {
      "text/html": [
       "<div>\n",
       "<style scoped>\n",
       "    .dataframe tbody tr th:only-of-type {\n",
       "        vertical-align: middle;\n",
       "    }\n",
       "\n",
       "    .dataframe tbody tr th {\n",
       "        vertical-align: top;\n",
       "    }\n",
       "\n",
       "    .dataframe thead th {\n",
       "        text-align: right;\n",
       "    }\n",
       "</style>\n",
       "<table border=\"1\" class=\"dataframe\">\n",
       "  <thead>\n",
       "    <tr style=\"text-align: right;\">\n",
       "      <th></th>\n",
       "      <th>actor_id</th>\n",
       "      <th>count</th>\n",
       "    </tr>\n",
       "  </thead>\n",
       "  <tbody>\n",
       "    <tr>\n",
       "      <th>0</th>\n",
       "      <td>1126773295153152908</td>\n",
       "      <td>1</td>\n",
       "    </tr>\n",
       "    <tr>\n",
       "      <th>1</th>\n",
       "      <td>1207231630540800847</td>\n",
       "      <td>1</td>\n",
       "    </tr>\n",
       "    <tr>\n",
       "      <th>2</th>\n",
       "      <td>1399274239688704788</td>\n",
       "      <td>1</td>\n",
       "    </tr>\n",
       "    <tr>\n",
       "      <th>3</th>\n",
       "      <td>1443673019514880559</td>\n",
       "      <td>1</td>\n",
       "    </tr>\n",
       "    <tr>\n",
       "      <th>4</th>\n",
       "      <td>1569252351934464432</td>\n",
       "      <td>1</td>\n",
       "    </tr>\n",
       "  </tbody>\n",
       "</table>\n",
       "</div>"
      ],
      "text/plain": [
       "              actor_id  count\n",
       "0  1126773295153152908      1\n",
       "1  1207231630540800847      1\n",
       "2  1399274239688704788      1\n",
       "3  1443673019514880559      1\n",
       "4  1569252351934464432      1"
      ]
     },
     "execution_count": 152,
     "metadata": {},
     "output_type": "execute_result"
    }
   ],
   "source": [
    "q = \"\"\"SELECT p.actor_id, COUNT (DISTINCT p.payment_id)\n",
    "       FROM payments p\n",
    "       WHERE p.date_created >= CAST('2018-08-01 00:00:00' AS timestamp)\n",
    "       GROUP BY p.actor_id;\"\"\"\n",
    "cursor.execute(q)\n",
    "#print(\"These are the different users and the date they joined venmo\")\n",
    "df = pd.DataFrame(cursor.fetchall())\n",
    "df.columns = [x[0] for x in cursor.description]\n",
    "df.head()"
   ]
  },
  {
   "cell_type": "code",
   "execution_count": 154,
   "metadata": {
    "scrolled": true
   },
   "outputs": [
    {
     "data": {
      "text/html": [
       "<div>\n",
       "<style scoped>\n",
       "    .dataframe tbody tr th:only-of-type {\n",
       "        vertical-align: middle;\n",
       "    }\n",
       "\n",
       "    .dataframe tbody tr th {\n",
       "        vertical-align: top;\n",
       "    }\n",
       "\n",
       "    .dataframe thead th {\n",
       "        text-align: right;\n",
       "    }\n",
       "</style>\n",
       "<table border=\"1\" class=\"dataframe\">\n",
       "  <thead>\n",
       "    <tr style=\"text-align: right;\">\n",
       "      <th></th>\n",
       "      <th>actor_id</th>\n",
       "      <th>count</th>\n",
       "    </tr>\n",
       "  </thead>\n",
       "  <tbody>\n",
       "    <tr>\n",
       "      <th>0</th>\n",
       "      <td>1126773295153152908</td>\n",
       "      <td>1</td>\n",
       "    </tr>\n",
       "    <tr>\n",
       "      <th>37</th>\n",
       "      <td>2302008090427392306</td>\n",
       "      <td>1</td>\n",
       "    </tr>\n",
       "    <tr>\n",
       "      <th>27</th>\n",
       "      <td>2171413033123840693</td>\n",
       "      <td>1</td>\n",
       "    </tr>\n",
       "    <tr>\n",
       "      <th>28</th>\n",
       "      <td>2181576024653824854</td>\n",
       "      <td>1</td>\n",
       "    </tr>\n",
       "    <tr>\n",
       "      <th>29</th>\n",
       "      <td>2205359305392128157</td>\n",
       "      <td>1</td>\n",
       "    </tr>\n",
       "  </tbody>\n",
       "</table>\n",
       "</div>"
      ],
      "text/plain": [
       "               actor_id  count\n",
       "0   1126773295153152908      1\n",
       "37  2302008090427392306      1\n",
       "27  2171413033123840693      1\n",
       "28  2181576024653824854      1\n",
       "29  2205359305392128157      1"
      ]
     },
     "execution_count": 154,
     "metadata": {},
     "output_type": "execute_result"
    }
   ],
   "source": [
    "df.sort_values('count', ascending=False).head()"
   ]
  },
  {
   "cell_type": "markdown",
   "metadata": {},
   "source": [
    "Strange, no user made more than one transaction in the period of 2018-08-01 00:00:00 until 2018-08-07 and there were only 50 transactions."
   ]
  },
  {
   "cell_type": "markdown",
   "metadata": {},
   "source": [
    "### Feature 8: Total number of transactions received in the past week"
   ]
  },
  {
   "cell_type": "code",
   "execution_count": 156,
   "metadata": {},
   "outputs": [
    {
     "data": {
      "text/html": [
       "<div>\n",
       "<style scoped>\n",
       "    .dataframe tbody tr th:only-of-type {\n",
       "        vertical-align: middle;\n",
       "    }\n",
       "\n",
       "    .dataframe tbody tr th {\n",
       "        vertical-align: top;\n",
       "    }\n",
       "\n",
       "    .dataframe thead th {\n",
       "        text-align: right;\n",
       "    }\n",
       "</style>\n",
       "<table border=\"1\" class=\"dataframe\">\n",
       "  <thead>\n",
       "    <tr style=\"text-align: right;\">\n",
       "      <th></th>\n",
       "      <th>target_user_id</th>\n",
       "      <th>count</th>\n",
       "    </tr>\n",
       "  </thead>\n",
       "  <tbody>\n",
       "    <tr>\n",
       "      <th>0</th>\n",
       "      <td>1159040721747968512</td>\n",
       "      <td>1</td>\n",
       "    </tr>\n",
       "    <tr>\n",
       "      <th>1</th>\n",
       "      <td>1315452072493056711</td>\n",
       "      <td>1</td>\n",
       "    </tr>\n",
       "    <tr>\n",
       "      <th>2</th>\n",
       "      <td>1350110889902080835</td>\n",
       "      <td>1</td>\n",
       "    </tr>\n",
       "    <tr>\n",
       "      <th>3</th>\n",
       "      <td>1380818563891200885</td>\n",
       "      <td>1</td>\n",
       "    </tr>\n",
       "    <tr>\n",
       "      <th>4</th>\n",
       "      <td>1398715273183232872</td>\n",
       "      <td>1</td>\n",
       "    </tr>\n",
       "  </tbody>\n",
       "</table>\n",
       "</div>"
      ],
      "text/plain": [
       "        target_user_id  count\n",
       "0  1159040721747968512      1\n",
       "1  1315452072493056711      1\n",
       "2  1350110889902080835      1\n",
       "3  1380818563891200885      1\n",
       "4  1398715273183232872      1"
      ]
     },
     "execution_count": 156,
     "metadata": {},
     "output_type": "execute_result"
    }
   ],
   "source": [
    "q = \"\"\"SELECT p.target_user_id, COUNT (DISTINCT p.payment_id)\n",
    "       FROM payments p\n",
    "       WHERE p.date_created >= CAST('2018-08-01 00:00:00' AS timestamp)\n",
    "       GROUP BY p.target_user_id;\"\"\"\n",
    "cursor.execute(q)\n",
    "#print(\"These are the different users and the date they joined venmo\")\n",
    "df = pd.DataFrame(cursor.fetchall())\n",
    "df.columns = [x[0] for x in cursor.description]\n",
    "df.head()"
   ]
  },
  {
   "cell_type": "code",
   "execution_count": 157,
   "metadata": {},
   "outputs": [
    {
     "data": {
      "text/html": [
       "<div>\n",
       "<style scoped>\n",
       "    .dataframe tbody tr th:only-of-type {\n",
       "        vertical-align: middle;\n",
       "    }\n",
       "\n",
       "    .dataframe tbody tr th {\n",
       "        vertical-align: top;\n",
       "    }\n",
       "\n",
       "    .dataframe thead th {\n",
       "        text-align: right;\n",
       "    }\n",
       "</style>\n",
       "<table border=\"1\" class=\"dataframe\">\n",
       "  <thead>\n",
       "    <tr style=\"text-align: right;\">\n",
       "      <th></th>\n",
       "      <th>target_user_id</th>\n",
       "      <th>count</th>\n",
       "    </tr>\n",
       "  </thead>\n",
       "  <tbody>\n",
       "    <tr>\n",
       "      <th>0</th>\n",
       "      <td>1159040721747968512</td>\n",
       "      <td>1</td>\n",
       "    </tr>\n",
       "    <tr>\n",
       "      <th>37</th>\n",
       "      <td>2298266762870784858</td>\n",
       "      <td>1</td>\n",
       "    </tr>\n",
       "    <tr>\n",
       "      <th>27</th>\n",
       "      <td>2126534223593472269</td>\n",
       "      <td>1</td>\n",
       "    </tr>\n",
       "    <tr>\n",
       "      <th>28</th>\n",
       "      <td>2138586245758976547</td>\n",
       "      <td>1</td>\n",
       "    </tr>\n",
       "    <tr>\n",
       "      <th>29</th>\n",
       "      <td>2143842430091264853</td>\n",
       "      <td>1</td>\n",
       "    </tr>\n",
       "  </tbody>\n",
       "</table>\n",
       "</div>"
      ],
      "text/plain": [
       "         target_user_id  count\n",
       "0   1159040721747968512      1\n",
       "37  2298266762870784858      1\n",
       "27  2126534223593472269      1\n",
       "28  2138586245758976547      1\n",
       "29  2143842430091264853      1"
      ]
     },
     "execution_count": 157,
     "metadata": {},
     "output_type": "execute_result"
    }
   ],
   "source": [
    "df.sort_values('count', ascending=False).head()"
   ]
  },
  {
   "cell_type": "markdown",
   "metadata": {},
   "source": [
    "### Feature 9: Does the user have a personalised about"
   ]
  },
  {
   "cell_type": "code",
   "execution_count": 163,
   "metadata": {},
   "outputs": [
    {
     "name": "stdout",
     "output_type": "stream",
     "text": [
      "These are the different users and the date they joined venmo\n"
     ]
    },
    {
     "data": {
      "text/html": [
       "<div>\n",
       "<style scoped>\n",
       "    .dataframe tbody tr th:only-of-type {\n",
       "        vertical-align: middle;\n",
       "    }\n",
       "\n",
       "    .dataframe tbody tr th {\n",
       "        vertical-align: top;\n",
       "    }\n",
       "\n",
       "    .dataframe thead th {\n",
       "        text-align: right;\n",
       "    }\n",
       "</style>\n",
       "<table border=\"1\" class=\"dataframe\">\n",
       "  <thead>\n",
       "    <tr style=\"text-align: right;\">\n",
       "      <th></th>\n",
       "      <th>user_id</th>\n",
       "      <th>about_personalised</th>\n",
       "    </tr>\n",
       "  </thead>\n",
       "  <tbody>\n",
       "    <tr>\n",
       "      <th>0</th>\n",
       "      <td>2206066431492096327</td>\n",
       "      <td>0</td>\n",
       "    </tr>\n",
       "    <tr>\n",
       "      <th>1</th>\n",
       "      <td>2200417693859840681</td>\n",
       "      <td>0</td>\n",
       "    </tr>\n",
       "    <tr>\n",
       "      <th>2</th>\n",
       "      <td>2373608382922752189</td>\n",
       "      <td>0</td>\n",
       "    </tr>\n",
       "    <tr>\n",
       "      <th>3</th>\n",
       "      <td>1670504276557824171</td>\n",
       "      <td>0</td>\n",
       "    </tr>\n",
       "    <tr>\n",
       "      <th>4</th>\n",
       "      <td>1957419122950144676</td>\n",
       "      <td>0</td>\n",
       "    </tr>\n",
       "  </tbody>\n",
       "</table>\n",
       "</div>"
      ],
      "text/plain": [
       "               user_id  about_personalised\n",
       "0  2206066431492096327                   0\n",
       "1  2200417693859840681                   0\n",
       "2  2373608382922752189                   0\n",
       "3  1670504276557824171                   0\n",
       "4  1957419122950144676                   0"
      ]
     },
     "execution_count": 163,
     "metadata": {},
     "output_type": "execute_result"
    }
   ],
   "source": [
    "q = \"\"\"SELECT user_id, about_personalised\n",
    "       FROM users\"\"\"\n",
    "cursor.execute(q)\n",
    "df = pd.DataFrame(cursor.fetchall())\n",
    "df.columns = [x[0] for x in cursor.description]\n",
    "df.head()"
   ]
  }
 ],
 "metadata": {
  "kernelspec": {
   "display_name": "Python 3",
   "language": "python",
   "name": "python3"
  },
  "language_info": {
   "codemirror_mode": {
    "name": "ipython",
    "version": 3
   },
   "file_extension": ".py",
   "mimetype": "text/x-python",
   "name": "python",
   "nbconvert_exporter": "python",
   "pygments_lexer": "ipython3",
   "version": "3.6.6"
  }
 },
 "nbformat": 4,
 "nbformat_minor": 2
}
