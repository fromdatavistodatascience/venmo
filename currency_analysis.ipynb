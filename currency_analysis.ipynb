{
 "cells": [
  {
   "cell_type": "markdown",
   "metadata": {},
   "source": [
    "# Calculate the mean value of the USD-EUR"
   ]
  },
  {
   "cell_type": "code",
   "execution_count": null,
   "metadata": {},
   "outputs": [],
   "source": [
    "import pandas as pd\n",
    "import numpy as np\n",
    "import json\n",
    "import datetime\n",
    "import pickle\n",
    "import functions as fn"
   ]
  },
  {
   "cell_type": "markdown",
   "metadata": {},
   "source": [
    "## Import data to calculate the exchange rate"
   ]
  },
  {
   "cell_type": "code",
   "execution_count": null,
   "metadata": {},
   "outputs": [],
   "source": [
    "# import needed libraries\n",
    "import pandas as pd\n",
    "import matplotlib.pyplot as plt\n",
    "from pandas_datareader import data as web\n",
    "\n",
    "# Make function for calls to Yahoo Finance\n",
    "def get_adj_close(ticker, start, end):\n",
    "    '''\n",
    "    A function that takes ticker symbols, starting period, ending period\n",
    "    as arguments and returns with a Pandas DataFrame of the Adjusted Close Prices\n",
    "    for the tickers from Yahoo Finance\n",
    "    '''\n",
    "    start = start\n",
    "    end = end\n",
    "    info = web.DataReader(ticker, data_source='yahoo', start=start, end=end)['Adj Close']\n",
    "    return pd.DataFrame(info)\n",
    "\n",
    "# Get Adjusted Closing Prices for EUR/USD, GBP/USD and EUR/GBP between 2018-2019\n",
    "fb = get_adj_close('fb', '1/1/2018', '31/08/2019')\n",
    "tesla = get_adj_close('tsla', '1/1/2018', '31/08/2019')\n",
    "amazon = get_adj_close('amzn', '1/1/2018', '31/08/2019')\n",
    "\n",
    "# Calculate 30 Day Moving Average, Std Deviation, Upper Band and Lower Band\n",
    "for item in (fb, tesla, amazon):\n",
    "    item['30 Day MA'] = item['Adj Close'].rolling(window=20).mean()\n",
    "    item['30 Day STD'] = item['Adj Close'].rolling(window=20).std()\n",
    "    item['Upper Band'] = item['30 Day MA'] + (item['30 Day STD'] * 2)\n",
    "    item['Lower Band'] = item['30 Day MA'] - (item['30 Day STD'] * 2)\n",
    "\n",
    "# Simple 30 Day Bollinger Band for Facebook (2016-2017)\n",
    "#fb[['Adj Close', '30 Day MA', 'Upper Band', 'Lower Band']].plot(figsize=(12,6))\n",
    "#plt.title('30 Day Bollinger Band for Facebook')\n",
    "#plt.ylabel('Price (USD)')\n",
    "# set style, empty figure and axes\n",
    "plt.style.use('fivethirtyeight')\n",
    "fig = plt.figure(figsize=(12,6))\n",
    "ax = fig.add_subplot(111)\n",
    "\n",
    "# Get index values for the X axis for facebook DataFrame\n",
    "x_axis = fb.index.get_level_values(0)\n",
    "\n",
    "# Plot shaded 21 Day Bollinger Band for Facebook\n",
    "ax.fill_between(x_axis, fb['Upper Band'], fb['Lower Band'], color='grey')\n",
    "\n",
    "# Plot Adjust Closing Price and Moving Averages\n",
    "ax.plot(x_axis, fb['Adj Close'], color='blue', lw=2)\n",
    "ax.plot(x_axis, fb['30 Day MA'], color='black', lw=2)\n",
    "\n",
    "# Set Title & Show the Image\n",
    "ax.set_title('30 Day Bollinger Band For Facebook')\n",
    "ax.set_xlabel('Date (Year/Month)')\n",
    "ax.set_ylabel('Price(USD)')\n",
    "ax.legend()\n",
    "plt.show();"
   ]
  }
 ],
 "metadata": {
  "kernelspec": {
   "display_name": "Python 3",
   "language": "python",
   "name": "python3"
  },
  "language_info": {
   "codemirror_mode": {
    "name": "ipython",
    "version": 3
   },
   "file_extension": ".py",
   "mimetype": "text/x-python",
   "name": "python",
   "nbconvert_exporter": "python",
   "pygments_lexer": "ipython3",
   "version": "3.6.9"
  }
 },
 "nbformat": 4,
 "nbformat_minor": 2
}
