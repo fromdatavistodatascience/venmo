{
 "cells": [
  {
   "cell_type": "markdown",
   "metadata": {},
   "source": [
    "# Generate a unique user table"
   ]
  },
  {
   "cell_type": "code",
   "execution_count": 1,
   "metadata": {},
   "outputs": [],
   "source": [
    "import pandas as pd\n",
    "import numpy as np\n",
    "import psycopg2\n",
    "import pymongo\n",
    "import json\n",
    "import datetime\n",
    "import pickle\n",
    "import functions as fn"
   ]
  },
  {
   "cell_type": "code",
   "execution_count": 2,
   "metadata": {},
   "outputs": [],
   "source": [
    "# load the above mentioned pickle\n",
    "with open('initial_5pct_transactions.pkl', 'rb') as f:\n",
    "    initial_5pct = pickle.load(f)"
   ]
  },
  {
   "cell_type": "markdown",
   "metadata": {},
   "source": [
    "## Actor (payer) extraction and manipulation"
   ]
  },
  {
   "cell_type": "code",
   "execution_count": 3,
   "metadata": {},
   "outputs": [],
   "source": [
    "# Transform actor information into a dataframe\n",
    "\n",
    "# Identifying columns that contain null values\n",
    "null_columns = (['email', 'friend_status', 'friends_count', 'identity',\n",
    "                 'phone', 'trust_request']) \n",
    "\n",
    "payers = []\n",
    "payer_ids = set()\n",
    "for transaction in initial_5pct:\n",
    "    actor = transaction['payment']['actor']\n",
    "    actor_id = actor['id']\n",
    "    if actor_id in payer_ids:\n",
    "        continue\n",
    "    else:\n",
    "        payer_ids.add(actor_id)\n",
    "        payer = {}\n",
    "        for key, val in transaction['payment']['actor'].items():\n",
    "            if key in null_columns:\n",
    "                continue\n",
    "            else:\n",
    "                payer[key] = val\n",
    "        payers.append(payer.copy())\n",
    "\n",
    "payers_df = pd.DataFrame(payers)"
   ]
  },
  {
   "cell_type": "code",
   "execution_count": 4,
   "metadata": {},
   "outputs": [
    {
     "name": "stdout",
     "output_type": "stream",
     "text": [
      "<class 'pandas.core.frame.DataFrame'>\n",
      "RangeIndex: 329112 entries, 0 to 329111\n",
      "Data columns (total 11 columns):\n",
      "about                  329111 non-null object\n",
      "date_joined            329111 non-null object\n",
      "display_name           329112 non-null object\n",
      "first_name             329112 non-null object\n",
      "id                     329112 non-null object\n",
      "is_active              329112 non-null bool\n",
      "is_blocked             329112 non-null bool\n",
      "is_group               329112 non-null bool\n",
      "last_name              329112 non-null object\n",
      "profile_picture_url    329112 non-null object\n",
      "username               329111 non-null object\n",
      "dtypes: bool(3), object(8)\n",
      "memory usage: 21.0+ MB\n"
     ]
    }
   ],
   "source": [
    "payers_df.info()"
   ]
  },
  {
   "cell_type": "code",
   "execution_count": 5,
   "metadata": {
    "scrolled": true
   },
   "outputs": [
    {
     "data": {
      "text/html": [
       "<div>\n",
       "<style scoped>\n",
       "    .dataframe tbody tr th:only-of-type {\n",
       "        vertical-align: middle;\n",
       "    }\n",
       "\n",
       "    .dataframe tbody tr th {\n",
       "        vertical-align: top;\n",
       "    }\n",
       "\n",
       "    .dataframe thead th {\n",
       "        text-align: right;\n",
       "    }\n",
       "</style>\n",
       "<table border=\"1\" class=\"dataframe\">\n",
       "  <thead>\n",
       "    <tr style=\"text-align: right;\">\n",
       "      <th></th>\n",
       "      <th>about</th>\n",
       "      <th>date_joined</th>\n",
       "      <th>display_name</th>\n",
       "      <th>first_name</th>\n",
       "      <th>id</th>\n",
       "      <th>is_active</th>\n",
       "      <th>is_blocked</th>\n",
       "      <th>is_group</th>\n",
       "      <th>last_name</th>\n",
       "      <th>profile_picture_url</th>\n",
       "      <th>username</th>\n",
       "    </tr>\n",
       "  </thead>\n",
       "  <tbody>\n",
       "    <tr>\n",
       "      <th>294315</th>\n",
       "      <td>None</td>\n",
       "      <td>None</td>\n",
       "      <td>Colleen Methvin</td>\n",
       "      <td>Colleen</td>\n",
       "      <td>2407520882655232799</td>\n",
       "      <td>False</td>\n",
       "      <td>False</td>\n",
       "      <td>False</td>\n",
       "      <td>Methvin</td>\n",
       "      <td>https://s3.amazonaws.com/venmo/no-image.gif</td>\n",
       "      <td>None</td>\n",
       "    </tr>\n",
       "  </tbody>\n",
       "</table>\n",
       "</div>"
      ],
      "text/plain": [
       "       about date_joined     display_name first_name                   id  \\\n",
       "294315  None        None  Colleen Methvin    Colleen  2407520882655232799   \n",
       "\n",
       "        is_active  is_blocked  is_group last_name  \\\n",
       "294315      False       False     False   Methvin   \n",
       "\n",
       "                                profile_picture_url username  \n",
       "294315  https://s3.amazonaws.com/venmo/no-image.gif     None  "
      ]
     },
     "execution_count": 5,
     "metadata": {},
     "output_type": "execute_result"
    }
   ],
   "source": [
    "# Investigate the only null value\n",
    "payers_df.loc[payers_df['about'].isna()]"
   ]
  },
  {
   "cell_type": "markdown",
   "metadata": {},
   "source": [
    "Colleen Methvin's case is strange because even though he doesn't have a username or a date_joined, he had made one successful transaction in the past, so we will not drop him from the table."
   ]
  },
  {
   "cell_type": "code",
   "execution_count": 6,
   "metadata": {},
   "outputs": [],
   "source": [
    "# Create a column to determine if they have personalised the about column\n",
    "\n",
    "# Values for default come after having explored the data in the eda_venmo notebook\n",
    "about_default = [' ', 'No Short Bio', 'No short bio', '\\n', ' \\n', '  ', 'No Short Bio\\n']\n",
    "about_personalised = [0 if about in about_default else 1 for about in payers_df['about']]  \n",
    "payers_df['about_personalised'] = about_personalised"
   ]
  },
  {
   "cell_type": "code",
   "execution_count": 7,
   "metadata": {},
   "outputs": [],
   "source": [
    "# Convert the date_joined objects into a datetime field\n",
    "payers_df['date_joined'] = pd.to_datetime(payers_df['date_joined'], format='%Y-%m-%dT%H:%M:%S')"
   ]
  },
  {
   "cell_type": "markdown",
   "metadata": {},
   "source": [
    "For the vast majority of users, display name is a combination of first and last name. However, for groups the display name is composed of first_name only. As a result, we will eliminate the first and last name columns to reduce the amount of data we load into our database. Moreover, we are not interested in the names for our analysis."
   ]
  },
  {
   "cell_type": "code",
   "execution_count": 8,
   "metadata": {},
   "outputs": [],
   "source": [
    "# Drop the first and last name columns\n",
    "payers_df.drop(['first_name', 'last_name'], axis = 1, inplace=True)"
   ]
  },
  {
   "cell_type": "code",
   "execution_count": 9,
   "metadata": {},
   "outputs": [],
   "source": [
    "# Create a column to determine if they have included a photo other than the default photo\n",
    "\n",
    "# Values for default come after having explored the data in the eda_venmo notebook\n",
    "pic_default = (['https://s3.amazonaws.com/venmo/no-image.gif', \n",
    "                'https://s3.amazonaws.com/venmo/placeholder-image/groups-placeholder.svg'])\n",
    "pic_personalised = [0 if about in pic_default else 1 for about in payers_df['about']]  \n",
    "payers_df['pic_personalised'] = pic_personalised"
   ]
  },
  {
   "cell_type": "markdown",
   "metadata": {},
   "source": [
    "A special thought should be given to the pic_personalised column as it can potentially not add that much value. This is because if users sign up through facebook, their profile_picture is updated to their facebook's profile pic. Consequently, this doesn't necessarily lead to more transactions. "
   ]
  },
  {
   "cell_type": "code",
   "execution_count": 10,
   "metadata": {},
   "outputs": [
    {
     "name": "stdout",
     "output_type": "stream",
     "text": [
      "<class 'pandas.core.frame.DataFrame'>\n",
      "RangeIndex: 329112 entries, 0 to 329111\n",
      "Data columns (total 11 columns):\n",
      "about                  329111 non-null object\n",
      "date_joined            329111 non-null datetime64[ns]\n",
      "display_name           329112 non-null object\n",
      "id                     329112 non-null object\n",
      "is_active              329112 non-null bool\n",
      "is_blocked             329112 non-null bool\n",
      "is_group               329112 non-null bool\n",
      "profile_picture_url    329112 non-null object\n",
      "username               329111 non-null object\n",
      "about_personalised     329112 non-null int64\n",
      "pic_personalised       329112 non-null int64\n",
      "dtypes: bool(3), datetime64[ns](1), int64(2), object(5)\n",
      "memory usage: 21.0+ MB\n"
     ]
    }
   ],
   "source": [
    "payers_df.info()"
   ]
  },
  {
   "cell_type": "markdown",
   "metadata": {},
   "source": [
    "## User (payee) extraction and manipulation"
   ]
  },
  {
   "cell_type": "code",
   "execution_count": 11,
   "metadata": {},
   "outputs": [],
   "source": [
    "# Transform user information into a dataframe\n",
    "\n",
    "# Identifying columns that contain null values\n",
    "null_columns = (['email', 'friend_status', 'friends_count', 'identity',\n",
    "                 'phone', 'trust_request']) \n",
    "\n",
    "payees = []\n",
    "payee_ids = set()\n",
    "counter = 0\n",
    "for transaction in initial_5pct:\n",
    "    user = transaction['payment']['target']['user']\n",
    "    try:\n",
    "        user_id = user['id']\n",
    "    except TypeError:\n",
    "        counter += 1\n",
    "        continue\n",
    "    if user_id in payee_ids:\n",
    "        continue\n",
    "    else:\n",
    "        payee_ids.add(user_id)\n",
    "        payee = {}\n",
    "        for key, val in transaction['payment']['target']['user'].items():\n",
    "            if key in null_columns:\n",
    "                continue\n",
    "            else:\n",
    "                payee[key] = val\n",
    "        payees.append(payee.copy())"
   ]
  },
  {
   "cell_type": "code",
   "execution_count": 12,
   "metadata": {},
   "outputs": [],
   "source": [
    "payees_df = pd.DataFrame(payees)"
   ]
  },
  {
   "cell_type": "code",
   "execution_count": 13,
   "metadata": {},
   "outputs": [
    {
     "name": "stdout",
     "output_type": "stream",
     "text": [
      "<class 'pandas.core.frame.DataFrame'>\n",
      "RangeIndex: 319902 entries, 0 to 319901\n",
      "Data columns (total 11 columns):\n",
      "about                  319902 non-null object\n",
      "date_joined            319902 non-null object\n",
      "display_name           319902 non-null object\n",
      "first_name             319902 non-null object\n",
      "id                     319902 non-null object\n",
      "is_active              319902 non-null bool\n",
      "is_blocked             319902 non-null bool\n",
      "is_group               319902 non-null bool\n",
      "last_name              319902 non-null object\n",
      "profile_picture_url    319902 non-null object\n",
      "username               319902 non-null object\n",
      "dtypes: bool(3), object(8)\n",
      "memory usage: 20.4+ MB\n"
     ]
    }
   ],
   "source": [
    "payees_df.info()"
   ]
  },
  {
   "cell_type": "code",
   "execution_count": 14,
   "metadata": {},
   "outputs": [],
   "source": [
    "# Create a column to determine if they have personalised the about column\n",
    "\n",
    "# Values for default come after having explored the data in the eda_venmo notebook\n",
    "about_default = [' ', 'No Short Bio', 'No short bio', '\\n', ' \\n', '  ', 'No Short Bio\\n']\n",
    "about_personalised = [0 if about in about_default else 1 for about in payees_df['about']]  \n",
    "payees_df['about_personalised'] = about_personalised"
   ]
  },
  {
   "cell_type": "code",
   "execution_count": 15,
   "metadata": {},
   "outputs": [],
   "source": [
    "#payees_df.loc[payees_df['display_name'] == 'Eugene Yum']"
   ]
  },
  {
   "cell_type": "code",
   "execution_count": 16,
   "metadata": {},
   "outputs": [],
   "source": [
    "#interesting = payees_df.loc[payees_df['display_name'] == 'Eugene Yum']['date_joined']"
   ]
  },
  {
   "cell_type": "code",
   "execution_count": 17,
   "metadata": {},
   "outputs": [],
   "source": [
    "#pd.to_datetime(interesting, format='%Y-%m-%dT%H:%M:%S')"
   ]
  },
  {
   "cell_type": "code",
   "execution_count": 18,
   "metadata": {},
   "outputs": [],
   "source": [
    "# Convert the date_joined objects into a datetime field\n",
    "payees_df['date_joined'] = pd.to_datetime(payers_df['date_joined'], format='%Y-%m-%dT%H:%M:%S')"
   ]
  },
  {
   "cell_type": "code",
   "execution_count": 19,
   "metadata": {},
   "outputs": [],
   "source": [
    "# Drop the first and last name columns\n",
    "payees_df.drop(['first_name', 'last_name'], axis = 1, inplace=True)"
   ]
  },
  {
   "cell_type": "code",
   "execution_count": 20,
   "metadata": {},
   "outputs": [],
   "source": [
    "# Create a column to determine if they have included a photo other than the default photo\n",
    "\n",
    "# Values for default come after having explored the data in the eda_venmo notebook\n",
    "pic_default = (['https://s3.amazonaws.com/venmo/no-image.gif', \n",
    "                'https://s3.amazonaws.com/venmo/placeholder-image/groups-placeholder.svg'])\n",
    "pic_personalised = [0 if about in pic_default else 1 for about in payees_df['about']]  \n",
    "payees_df['pic_personalised'] = pic_personalised"
   ]
  },
  {
   "cell_type": "code",
   "execution_count": 21,
   "metadata": {},
   "outputs": [
    {
     "name": "stdout",
     "output_type": "stream",
     "text": [
      "<class 'pandas.core.frame.DataFrame'>\n",
      "RangeIndex: 319902 entries, 0 to 319901\n",
      "Data columns (total 11 columns):\n",
      "about                  319902 non-null object\n",
      "date_joined            319901 non-null datetime64[ns]\n",
      "display_name           319902 non-null object\n",
      "id                     319902 non-null object\n",
      "is_active              319902 non-null bool\n",
      "is_blocked             319902 non-null bool\n",
      "is_group               319902 non-null bool\n",
      "profile_picture_url    319902 non-null object\n",
      "username               319902 non-null object\n",
      "about_personalised     319902 non-null int64\n",
      "pic_personalised       319902 non-null int64\n",
      "dtypes: bool(3), datetime64[ns](1), int64(2), object(5)\n",
      "memory usage: 20.4+ MB\n"
     ]
    }
   ],
   "source": [
    "payees_df.info()"
   ]
  },
  {
   "cell_type": "markdown",
   "metadata": {},
   "source": [
    "## Unique user table"
   ]
  },
  {
   "cell_type": "code",
   "execution_count": 22,
   "metadata": {},
   "outputs": [],
   "source": [
    "# Identifying the payees that have not been payers to make a complete user list\n",
    "\n",
    "payees_not_payers = set()\n",
    "for payee_id in payee_ids:\n",
    "    if payee_id not in payer_ids:\n",
    "        payees_not_payers.add(payee_id)"
   ]
  },
  {
   "cell_type": "code",
   "execution_count": 23,
   "metadata": {},
   "outputs": [],
   "source": [
    "payees_not_payers_df = payees_df.loc[payees_df['id'].apply(lambda x: x in payees_not_payers)]"
   ]
  },
  {
   "cell_type": "code",
   "execution_count": 24,
   "metadata": {},
   "outputs": [],
   "source": [
    "unique_users = pd.concat([payers_df, payees_not_payers_df], axis=0)\n",
    "unique_users = unique_users.rename(columns = {\"id\": \"user_id\"}) "
   ]
  },
  {
   "cell_type": "code",
   "execution_count": 25,
   "metadata": {},
   "outputs": [
    {
     "data": {
      "text/plain": [
       "True"
      ]
     },
     "execution_count": 25,
     "metadata": {},
     "output_type": "execute_result"
    }
   ],
   "source": [
    "len(payers_df) + len(payees_not_payers) == len(unique_users)"
   ]
  },
  {
   "cell_type": "code",
   "execution_count": 27,
   "metadata": {},
   "outputs": [
    {
     "name": "stdout",
     "output_type": "stream",
     "text": [
      "<class 'pandas.core.frame.DataFrame'>\n",
      "Int64Index: 624518 entries, 0 to 319901\n",
      "Data columns (total 11 columns):\n",
      "about                  624517 non-null object\n",
      "date_joined            624516 non-null datetime64[ns]\n",
      "display_name           624518 non-null object\n",
      "user_id                624518 non-null object\n",
      "is_active              624518 non-null bool\n",
      "is_blocked             624518 non-null bool\n",
      "is_group               624518 non-null bool\n",
      "profile_picture_url    624518 non-null object\n",
      "username               624517 non-null object\n",
      "about_personalised     624518 non-null int64\n",
      "pic_personalised       624518 non-null int64\n",
      "dtypes: bool(3), datetime64[ns](1), int64(2), object(5)\n",
      "memory usage: 44.7+ MB\n"
     ]
    }
   ],
   "source": [
    "unique_users.info()"
   ]
  },
  {
   "cell_type": "code",
   "execution_count": 26,
   "metadata": {},
   "outputs": [],
   "source": [
    "# Store the user table\n",
    "with open('initial_5pct_unique_users.pkl', 'wb') as f:\n",
    "    pickle.dump(unique_users, f)"
   ]
  }
 ],
 "metadata": {
  "kernelspec": {
   "display_name": "Python 3",
   "language": "python",
   "name": "python3"
  },
  "language_info": {
   "codemirror_mode": {
    "name": "ipython",
    "version": 3
   },
   "file_extension": ".py",
   "mimetype": "text/x-python",
   "name": "python",
   "nbconvert_exporter": "python",
   "pygments_lexer": "ipython3",
   "version": "3.6.6"
  }
 },
 "nbformat": 4,
 "nbformat_minor": 2
}
