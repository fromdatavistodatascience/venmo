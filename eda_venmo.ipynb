{
 "cells": [
  {
   "cell_type": "markdown",
   "metadata": {},
   "source": [
    "# Performing EDA on Venmo data"
   ]
  },
  {
   "cell_type": "code",
   "execution_count": null,
   "metadata": {},
   "outputs": [],
   "source": [
    "import pandas as pd\n",
    "import numpy as np\n",
    "import psycopg2\n",
    "import pymongo\n",
    "import json\n",
    "import datetime\n",
    "import pickle\n",
    "import functions as fn"
   ]
  },
  {
   "cell_type": "markdown",
   "metadata": {},
   "source": [
    "Data has to be exported from a Mongo DB"
   ]
  },
  {
   "cell_type": "code",
   "execution_count": null,
   "metadata": {},
   "outputs": [],
   "source": [
    "# Retrieve the venmo transaction collection from the MongoDB\n",
    "venmo = fn.collection()"
   ]
  },
  {
   "cell_type": "code",
   "execution_count": null,
   "metadata": {},
   "outputs": [],
   "source": [
    "# Count all transactions in the venmo data\n",
    "venmo.count()"
   ]
  },
  {
   "cell_type": "code",
   "execution_count": null,
   "metadata": {},
   "outputs": [],
   "source": [
    "# Inspect the first transaction\n",
    "venmo.find_one()"
   ]
  },
  {
   "cell_type": "code",
   "execution_count": null,
   "metadata": {},
   "outputs": [],
   "source": [
    "#pass in initial_5pct function to generate a pickle with the first ~350k transactions\n",
    "#initial_5pct = fn.initial_5pct(venmo)"
   ]
  },
  {
   "cell_type": "code",
   "execution_count": null,
   "metadata": {},
   "outputs": [],
   "source": [
    "# load the above mentioned pickle\n",
    "with open('initial_5pct_transactions.pkl', 'rb') as f:\n",
    "    initial_5pct = pickle.load(f)"
   ]
  },
  {
   "cell_type": "code",
   "execution_count": null,
   "metadata": {},
   "outputs": [],
   "source": [
    "first = venmo.find_one()"
   ]
  },
  {
   "cell_type": "code",
   "execution_count": null,
   "metadata": {},
   "outputs": [],
   "source": [
    "transaction_df = []\n",
    "transaction = {}\n",
    "keys = ['mentions', 'likes', 'comments','app']\n",
    "payment_keys = (['amount', 'note', 'action', 'status', 'date_created', 'date_reminded',\n",
    "                 'id', 'date_authorized', 'merchant_split_purchase', 'audience', 'date_completed'])\n",
    "payment_inner_keys = ['target', 'actor']\n",
    "target_keys = ['redeemable_target', 'merchant', 'phone', 'email', 'type']\n",
    "actor_keys = [\"username\", \"friends_count\", \"is_active\", \"display_name\", \"friend_status\", \"email\",\n",
    "              \"first_name\", \"identity\", \"last_name\", \"is_blocked\", \"about\", \"profile_picture_url\", \"id\",\n",
    "              \"phone\", \"trust_request\", \"date_joined\", \"is_group\"]    \n",
    "\n",
    "for key, val in first.items():\n",
    "    if key in keys:\n",
    "        for subkeys, subvals in val.items():\n",
    "            unpacked = f'{key}_{subkeys}'\n",
    "            transaction[unpacked] = subvals\n",
    "    elif key == 'payment':\n",
    "        for payment_subkeys, payment_subvals in val.items():\n",
    "            if payment_subkeys in payment_keys:\n",
    "                payments_unpacked = f'{key}_{payment_subkeys}'\n",
    "                transaction[payments_unpacked] = payment_subvals\n",
    "            elif payment_subkeys in payment_inner_keys:\n",
    "                for payment_target_actor_subkeys, payment_target_actor_subvalues in payment_subvals.items():\n",
    "                    if payment_target_actor_subkeys in target_keys:\n",
    "                        payment_target_subkeys_unpacked = f'{key}_{payment_subkeys}_{payment_target_actor_subkeys}'\n",
    "                        transaction[payment_target_subkeys_unpacked] = payment_target_actor_subvalues\n",
    "                    elif payment_target_actor_subkeys in actor_keys:\n",
    "                        payment_actor_subkeys_unpacked = f'{key}_{payment_subkeys}_{payment_target_actor_subkeys}'\n",
    "                        transaction[payment_actor_subkeys_unpacked] = payment_target_actor_subvalues\n",
    "                    elif payment_target_actor_subkeys == 'user':\n",
    "                        for payment_target_user_subkeys, payment_target_user_subvalues in payment_target_actor_subvalues.items():\n",
    "                            payment_actor_user_subkeys_unpacked = (\n",
    "                                f'{key}_{payment_subkeys}_{payment_target_actor_subkeys}_{payment_target_user_subkeys}'\n",
    "                            )\n",
    "                            transaction[payment_actor_user_subkeys_unpacked] = payment_target_user_subvalues\n",
    "                    else:\n",
    "                        continue\n",
    "            else:\n",
    "                continue\n",
    "        continue\n",
    "    else:\n",
    "        transaction[key] = val\n",
    "transaction_df.append(transaction.copy())"
   ]
  },
  {
   "cell_type": "code",
   "execution_count": null,
   "metadata": {},
   "outputs": [],
   "source": [
    "transaction_df"
   ]
  },
  {
   "cell_type": "markdown",
   "metadata": {},
   "source": [
    "## Inspecting payer information"
   ]
  },
  {
   "cell_type": "code",
   "execution_count": null,
   "metadata": {},
   "outputs": [],
   "source": [
    "len(initial_5pct)"
   ]
  },
  {
   "cell_type": "code",
   "execution_count": null,
   "metadata": {},
   "outputs": [],
   "source": [
    "# Collect the unique ids for each payer in the intial_5pct of transactions\n",
    "payer_ids = set()\n",
    "for transaction in initial_5pct:\n",
    "    actor = transaction['payment']['actor']\n",
    "    actor_id = actor['id']\n",
    "    payer_ids.add(actor_id)"
   ]
  },
  {
   "cell_type": "code",
   "execution_count": null,
   "metadata": {
    "scrolled": false
   },
   "outputs": [],
   "source": [
    "f'The number of unique payers in the first 5% of transactions is {len(payer_ids)}'"
   ]
  },
  {
   "cell_type": "code",
   "execution_count": null,
   "metadata": {},
   "outputs": [],
   "source": [
    "# Transform actor information into a dataframe\n",
    "payers = []\n",
    "payer_ids = set()\n",
    "for transaction in initial_5pct:\n",
    "    actor = transaction['payment']['actor']\n",
    "    actor_id = actor['id']\n",
    "    if actor_id in payer_ids:\n",
    "        continue\n",
    "    else:\n",
    "        payer_ids.add(actor_id)\n",
    "        payer = {}\n",
    "        for key, val in transaction['payment']['actor'].items():\n",
    "            payer[key] = val\n",
    "        payers.append(payer.copy())\n",
    "\n",
    "payers_df = pd.DataFrame(payers)\n",
    "payers_df['payer'] = 1"
   ]
  },
  {
   "cell_type": "code",
   "execution_count": null,
   "metadata": {
    "scrolled": true
   },
   "outputs": [],
   "source": [
    "payers_df.head()"
   ]
  },
  {
   "cell_type": "code",
   "execution_count": null,
   "metadata": {},
   "outputs": [],
   "source": [
    "# Investigate the dataframe\n",
    "payers_df.info()"
   ]
  },
  {
   "cell_type": "code",
   "execution_count": null,
   "metadata": {},
   "outputs": [],
   "source": [
    "# Isolate nulls to see them more clearly\n",
    "payers_df.isna().sum()"
   ]
  },
  {
   "cell_type": "code",
   "execution_count": null,
   "metadata": {},
   "outputs": [],
   "source": [
    "# Check for any duplicates\n",
    "payers_df.duplicated().sum()"
   ]
  },
  {
   "cell_type": "code",
   "execution_count": null,
   "metadata": {},
   "outputs": [],
   "source": [
    "# Inspect the null value for about, looks like it could be the same row as for date_joined and username.\n",
    "payers_df.loc[payers_df['about'].isna()]"
   ]
  },
  {
   "cell_type": "markdown",
   "metadata": {},
   "source": [
    "It would be insteresting to see if said user has made any transactions"
   ]
  },
  {
   "cell_type": "code",
   "execution_count": null,
   "metadata": {},
   "outputs": [],
   "source": [
    "# Given that it is we are going to drop said value.\n",
    "payers_df.drop(axis=0, index=294315, inplace=True)"
   ]
  },
  {
   "cell_type": "code",
   "execution_count": null,
   "metadata": {},
   "outputs": [],
   "source": [
    "# Drop columns that only have null values\n",
    "null_cols = ['email', 'friend_status', 'friends_count', 'identity', 'phone', 'trust_request']\n",
    "payers_df.drop(labels = null_cols, axis=1, inplace=True)"
   ]
  },
  {
   "cell_type": "code",
   "execution_count": null,
   "metadata": {},
   "outputs": [],
   "source": [
    "payers_df.info()"
   ]
  },
  {
   "cell_type": "code",
   "execution_count": null,
   "metadata": {
    "scrolled": true
   },
   "outputs": [],
   "source": [
    "payers_df['about'].value_counts()"
   ]
  },
  {
   "cell_type": "code",
   "execution_count": null,
   "metadata": {},
   "outputs": [],
   "source": [
    "# Converting the date joined object into a datetime.datetime field\n",
    "payers_df['date_joined'] = pd.to_datetime(payers_df['date_joined'], format='%Y-%m-%dT%H:%M:%S')"
   ]
  },
  {
   "cell_type": "code",
   "execution_count": null,
   "metadata": {},
   "outputs": [],
   "source": [
    "payers_df.info()"
   ]
  },
  {
   "cell_type": "code",
   "execution_count": null,
   "metadata": {},
   "outputs": [],
   "source": [
    "payers_df['is_active'].value_counts()"
   ]
  },
  {
   "cell_type": "code",
   "execution_count": null,
   "metadata": {},
   "outputs": [],
   "source": [
    "payers_df['is_blocked'].value_counts()"
   ]
  },
  {
   "cell_type": "code",
   "execution_count": null,
   "metadata": {},
   "outputs": [],
   "source": [
    "payers_df['is_group'].value_counts()"
   ]
  },
  {
   "cell_type": "code",
   "execution_count": null,
   "metadata": {},
   "outputs": [],
   "source": [
    "# Investigating whether or not display_name is just a sum of first_name and last_name\n",
    "payers_df['new_name'] = (payers_df['first_name'] + ' ' + payers_df['last_name'])"
   ]
  },
  {
   "cell_type": "code",
   "execution_count": null,
   "metadata": {
    "scrolled": true
   },
   "outputs": [],
   "source": [
    "len(payers_df) - sum(payers_df['display_name'] == payers_df['new_name'])"
   ]
  },
  {
   "cell_type": "code",
   "execution_count": null,
   "metadata": {},
   "outputs": [],
   "source": [
    "# Investigating the cases in which display name is not equal to the combination of first_name and last_name\n",
    "payers_df.loc[payers_df['display_name'] != payers_df['new_name']]"
   ]
  },
  {
   "cell_type": "code",
   "execution_count": null,
   "metadata": {},
   "outputs": [],
   "source": [
    "payers_df.drop('new_name', axis=1, inplace=True)"
   ]
  },
  {
   "cell_type": "markdown",
   "metadata": {},
   "source": [
    "Another revelation has just been made, although no null values seem to appear in the first and last name columns, there are blank values in it. Lets investigate this further."
   ]
  },
  {
   "cell_type": "code",
   "execution_count": null,
   "metadata": {},
   "outputs": [],
   "source": [
    "payers_df.loc[payers_df['first_name'] == '']"
   ]
  },
  {
   "cell_type": "markdown",
   "metadata": {},
   "source": [
    "All columns that are groups don't have either a first_name or last_name associated with it."
   ]
  },
  {
   "cell_type": "code",
   "execution_count": null,
   "metadata": {},
   "outputs": [],
   "source": [
    "payers_df['profile_picture_url'].value_counts()"
   ]
  },
  {
   "cell_type": "code",
   "execution_count": null,
   "metadata": {},
   "outputs": [],
   "source": [
    "payers_df['username'].value_counts()"
   ]
  },
  {
   "cell_type": "code",
   "execution_count": null,
   "metadata": {},
   "outputs": [],
   "source": [
    "payers_df.loc[payers_df['username'] == 'Omar-Sanchez-74']"
   ]
  },
  {
   "cell_type": "markdown",
   "metadata": {},
   "source": [
    "## Inspecting payee information"
   ]
  },
  {
   "cell_type": "code",
   "execution_count": null,
   "metadata": {},
   "outputs": [],
   "source": [
    "# Transform user information into a dataframe\n",
    "payees = []\n",
    "payee_ids = set()\n",
    "counter = 0\n",
    "for transaction in initial_5pct:\n",
    "    user = transaction['payment']['target']['user']\n",
    "    try:\n",
    "        user_id = user['id']\n",
    "    except TypeError:\n",
    "        counter += 1\n",
    "        continue\n",
    "    if user_id in payee_ids:\n",
    "        continue\n",
    "    else:\n",
    "        payee_ids.add(user_id)\n",
    "        payee = {}\n",
    "        for key, val in transaction['payment']['target']['user'].items():\n",
    "            payee[key] = val\n",
    "        payees.append(payee.copy())\n",
    "\n",
    "payees_df = pd.DataFrame(payees)\n",
    "payees_df['payee'] = 1"
   ]
  },
  {
   "cell_type": "code",
   "execution_count": null,
   "metadata": {},
   "outputs": [],
   "source": [
    "f'The number of transactions made to no users is {counter}'"
   ]
  },
  {
   "cell_type": "code",
   "execution_count": null,
   "metadata": {},
   "outputs": [],
   "source": [
    "len(payer_ids)-len(payee_ids)"
   ]
  },
  {
   "cell_type": "code",
   "execution_count": null,
   "metadata": {
    "scrolled": false
   },
   "outputs": [],
   "source": [
    "payees_df.head()"
   ]
  },
  {
   "cell_type": "code",
   "execution_count": null,
   "metadata": {},
   "outputs": [],
   "source": [
    "payees_df.info()"
   ]
  },
  {
   "cell_type": "markdown",
   "metadata": {},
   "source": [
    "As expected from the actors, there are no emails, friend_status, friends_count, identity, phone, trust and requests"
   ]
  },
  {
   "cell_type": "code",
   "execution_count": null,
   "metadata": {},
   "outputs": [],
   "source": [
    "payees_df.isna().sum()"
   ]
  },
  {
   "cell_type": "code",
   "execution_count": null,
   "metadata": {},
   "outputs": [],
   "source": [
    "payees_df.duplicated().sum()"
   ]
  },
  {
   "cell_type": "code",
   "execution_count": null,
   "metadata": {},
   "outputs": [],
   "source": [
    "# Drop columns that only have null values\n",
    "null_cols = ['email', 'friend_status', 'friends_count', 'identity', 'phone', 'trust_request']\n",
    "payees_df.drop(labels = null_cols, axis=1, inplace=True)"
   ]
  },
  {
   "cell_type": "code",
   "execution_count": null,
   "metadata": {},
   "outputs": [],
   "source": [
    "payees_df['about'].value_counts()"
   ]
  },
  {
   "cell_type": "code",
   "execution_count": null,
   "metadata": {},
   "outputs": [],
   "source": [
    "# Converting the date joined object into a datetime.datetime field\n",
    "payees_df['date_joined'] = pd.to_datetime(payees_df['date_joined'], format='%Y-%m-%dT%H:%M:%S')"
   ]
  },
  {
   "cell_type": "code",
   "execution_count": null,
   "metadata": {},
   "outputs": [],
   "source": [
    "payees_df.info()"
   ]
  },
  {
   "cell_type": "code",
   "execution_count": null,
   "metadata": {},
   "outputs": [],
   "source": [
    "payees_df['is_active'].value_counts()"
   ]
  },
  {
   "cell_type": "code",
   "execution_count": null,
   "metadata": {},
   "outputs": [],
   "source": [
    "payees_df['is_blocked'].value_counts()"
   ]
  },
  {
   "cell_type": "code",
   "execution_count": null,
   "metadata": {},
   "outputs": [],
   "source": [
    "payees_df['is_group'].value_counts()"
   ]
  },
  {
   "cell_type": "markdown",
   "metadata": {},
   "source": [
    "Makes sense that there are more payees that are goups given that companies can receive venmos but not transact with said money, just extract it"
   ]
  },
  {
   "cell_type": "code",
   "execution_count": null,
   "metadata": {},
   "outputs": [],
   "source": [
    "# Investigating whether or not display_name is just a sum of first_name and last_name\n",
    "payees_df['new_name'] = (payees_df['first_name'] + ' ' + payees_df['last_name'])"
   ]
  },
  {
   "cell_type": "code",
   "execution_count": null,
   "metadata": {},
   "outputs": [],
   "source": [
    "# Investigating the cases in which display name is not equal to the combination of first_name and last_name\n",
    "payees_df.loc[payees_df['display_name'] != payees_df['new_name']]"
   ]
  },
  {
   "cell_type": "code",
   "execution_count": null,
   "metadata": {},
   "outputs": [],
   "source": [
    "payees_df.loc[(payees_df['display_name'] != payees_df['new_name'])  & (payees_df['is_group'] == False)]"
   ]
  },
  {
   "cell_type": "code",
   "execution_count": null,
   "metadata": {},
   "outputs": [],
   "source": [
    "payees_df.drop('new_name', axis=1, inplace=True)"
   ]
  },
  {
   "cell_type": "code",
   "execution_count": null,
   "metadata": {},
   "outputs": [],
   "source": [
    "payees_df.loc[(payees_df['first_name'] == '') & (payees_df['is_group'] == False)]"
   ]
  },
  {
   "cell_type": "code",
   "execution_count": null,
   "metadata": {},
   "outputs": [],
   "source": [
    "payees_df['profile_picture_url'].value_counts()"
   ]
  },
  {
   "cell_type": "code",
   "execution_count": null,
   "metadata": {},
   "outputs": [],
   "source": [
    "payees_df['username'].value_counts()"
   ]
  },
  {
   "cell_type": "markdown",
   "metadata": {},
   "source": [
    "## Create a dataframe with unique payer and payees data"
   ]
  },
  {
   "cell_type": "code",
   "execution_count": null,
   "metadata": {},
   "outputs": [],
   "source": [
    "# Identifying the payees that have not been payers to make a complete user list\n",
    "\n",
    "payees_not_payers = set()\n",
    "for payee_id in payee_ids:\n",
    "    if payee_id not in payer_ids:\n",
    "        payees_not_payers.add(payee_id)"
   ]
  },
  {
   "cell_type": "code",
   "execution_count": null,
   "metadata": {},
   "outputs": [],
   "source": [
    "payees_not_payers_df = payees_df.loc[payees_df['id'].apply(lambda x: x in payees_not_payers)]"
   ]
  },
  {
   "cell_type": "code",
   "execution_count": null,
   "metadata": {},
   "outputs": [],
   "source": [
    "unique_users = pd.concat([payers_df, payees_not_payers_df], axis=0)"
   ]
  },
  {
   "cell_type": "code",
   "execution_count": null,
   "metadata": {},
   "outputs": [],
   "source": [
    "len(payers_df) + len(payees_not_payers) == len(unique_users)"
   ]
  },
  {
   "cell_type": "code",
   "execution_count": null,
   "metadata": {},
   "outputs": [],
   "source": [
    "unique_users.duplicated().sum()"
   ]
  },
  {
   "cell_type": "code",
   "execution_count": null,
   "metadata": {
    "scrolled": true
   },
   "outputs": [],
   "source": [
    "unique_users.head()"
   ]
  },
  {
   "cell_type": "markdown",
   "metadata": {},
   "source": [
    "### Store said dataframe"
   ]
  },
  {
   "cell_type": "code",
   "execution_count": null,
   "metadata": {},
   "outputs": [],
   "source": [
    "# store the calculated df\n",
    "with open('initial_5pct_unique_users.pkl', 'wb') as f:\n",
    "    pickle.dump(unique_users, f)"
   ]
  }
 ],
 "metadata": {
  "kernelspec": {
   "display_name": "Python 3",
   "language": "python",
   "name": "python3"
  },
  "language_info": {
   "codemirror_mode": {
    "name": "ipython",
    "version": 3
   },
   "file_extension": ".py",
   "mimetype": "text/x-python",
   "name": "python",
   "nbconvert_exporter": "python",
   "pygments_lexer": "ipython3",
   "version": "3.6.6"
  }
 },
 "nbformat": 4,
 "nbformat_minor": 2
}
