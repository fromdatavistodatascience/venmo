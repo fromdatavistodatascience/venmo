{
 "cells": [
  {
   "cell_type": "markdown",
   "metadata": {},
   "source": [
    "# Exploring results from different models"
   ]
  },
  {
   "cell_type": "code",
   "execution_count": 2,
   "metadata": {},
   "outputs": [
    {
     "name": "stderr",
     "output_type": "stream",
     "text": [
      "/Users/jjherranzsarrion/anaconda3/envs/learn-env/lib/python3.6/site-packages/sklearn/externals/joblib/__init__.py:15: DeprecationWarning: sklearn.externals.joblib is deprecated in 0.21 and will be removed in 0.23. Please import this functionality directly from joblib, which can be installed with: pip install joblib. If this warning is raised when loading pickled models, you may need to re-serialize those models with scikit-learn 0.21+.\n",
      "  warnings.warn(msg, category=DeprecationWarning)\n"
     ]
    }
   ],
   "source": [
    "import pandas as pd\n",
    "import numpy as np\n",
    "import psycopg2\n",
    "import pymongo\n",
    "import json\n",
    "import datetime\n",
    "import pickle\n",
    "import functions as fn\n",
    "import matplotlib.pyplot as plt \n",
    "%matplotlib inline\n",
    "from sklearn.preprocessing import StandardScaler\n",
    "from sklearn.model_selection import train_test_split, GridSearchCV, cross_val_score\n",
    "from sklearn.linear_model import LogisticRegression\n",
    "from sklearn.metrics import precision_score, recall_score, accuracy_score, f1_score\n",
    "import io\n",
    "from sqlalchemy import create_engine\n",
    "from sklearn.metrics import roc_curve, auc\n",
    "from sklearn.metrics import confusion_matrix\n",
    "from imblearn.over_sampling import SMOTE\n",
    "import seaborn as sns\n",
    "from imblearn.pipeline import Pipeline\n",
    "from sklearn.externals import joblib\n",
    "from sklearn.metrics import accuracy_score, confusion_matrix, classification_report\n",
    "from sklearn.ensemble import BaggingClassifier, RandomForestClassifier"
   ]
  },
  {
   "cell_type": "code",
   "execution_count": 3,
   "metadata": {},
   "outputs": [],
   "source": [
    "# Retrieve information to connect to the database\n",
    "keys = fn.get_keys(\"/Users/jjherranzsarrion/.secret/local_info.json\")\n",
    "username = keys['username']\n",
    "password = keys['password']"
   ]
  },
  {
   "cell_type": "code",
   "execution_count": 4,
   "metadata": {},
   "outputs": [],
   "source": [
    "# Select your time ranges and add them in variables\n",
    "train_window_end = '2018-08-04 23:59:59'\n",
    "test_window_start = '2018-08-05 00:00:00'\n",
    "test_window_end = '2018-08-07 23:59:59'\n",
    "previous_day_start = '2018-08-04 00:00:00'"
   ]
  },
  {
   "cell_type": "markdown",
   "metadata": {},
   "source": [
    "## Extract calculated features"
   ]
  },
  {
   "cell_type": "code",
   "execution_count": 5,
   "metadata": {
    "scrolled": true
   },
   "outputs": [
    {
     "name": "stderr",
     "output_type": "stream",
     "text": [
      "/Users/jjherranzsarrion/anaconda3/envs/learn-env/lib/python3.6/site-packages/smart_open/smart_open_lib.py:398: UserWarning: This function is deprecated, use smart_open.open instead. See the migration notes for details: https://github.com/RaRe-Technologies/smart_open/blob/master/README.rst#migrating-to-the-new-open-function\n",
      "  'See the migration notes for details: %s' % _MIGRATION_NOTES_URL\n",
      "/Users/jjherranzsarrion/Documents/Data Science/FlatIron School/capstone/payments/venmo/functions.py:838: FutureWarning: Passing integers to fillna is deprecated, will raise a TypeError in a future version.  To retain the old behavior, pass pd.Timedelta(seconds=n) instead.\n",
      "  trans_made.fillna(0, inplace=True)\n",
      "/Users/jjherranzsarrion/Documents/Data Science/FlatIron School/capstone/payments/venmo/functions.py:867: FutureWarning: Passing integers to fillna is deprecated, will raise a TypeError in a future version.  To retain the old behavior, pass pd.Timedelta(seconds=n) instead.\n",
      "  trans_rec.fillna(0, inplace=True)\n",
      "/Users/jjherranzsarrion/Documents/Data Science/FlatIron School/capstone/payments/venmo/functions.py:881: FutureWarning: Passing integers to fillna is deprecated, will raise a TypeError in a future version.  To retain the old behavior, pass pd.Timedelta(seconds=n) instead.\n",
      "  trans.fillna(0, inplace=True)\n"
     ]
    }
   ],
   "source": [
    "user_statistics = fn.get_aggregated_user_statistics(username, password, previous_day_start, train_window_end)"
   ]
  },
  {
   "cell_type": "code",
   "execution_count": 6,
   "metadata": {},
   "outputs": [],
   "source": [
    "tran_or_not_df = fn.extract_target(username, password, test_window_start, test_window_end)"
   ]
  },
  {
   "cell_type": "code",
   "execution_count": 7,
   "metadata": {},
   "outputs": [],
   "source": [
    "# Left join because you don't want to add new unrecorded users that made a transaction on the two testing days\n",
    "complete_table = pd.merge(user_statistics, tran_or_not_df, 'left', on='user_id')\n",
    "complete_table.fillna(0, inplace=True)"
   ]
  },
  {
   "cell_type": "code",
   "execution_count": 8,
   "metadata": {
    "scrolled": true
   },
   "outputs": [
    {
     "data": {
      "text/plain": [
       "0.0    1003258\n",
       "1.0      48108\n",
       "Name: n_trans_made_in_measured_period, dtype: int64"
      ]
     },
     "execution_count": 8,
     "metadata": {},
     "output_type": "execute_result"
    }
   ],
   "source": [
    "complete_table['n_trans_made_in_measured_period'].value_counts()"
   ]
  },
  {
   "cell_type": "markdown",
   "metadata": {},
   "source": [
    "Roughly, ~1M customers didn't make a transaction, whereas ~50K did. It is a very imbalanced dataset."
   ]
  },
  {
   "cell_type": "code",
   "execution_count": 9,
   "metadata": {},
   "outputs": [],
   "source": [
    "X = complete_table.drop(['user_id', 'n_trans_made_in_measured_period'], axis=1)\n",
    "y = complete_table['n_trans_made_in_measured_period']\n",
    "X_train, X_test, y_train, y_test = train_test_split(X, y, random_state=42)"
   ]
  },
  {
   "cell_type": "markdown",
   "metadata": {},
   "source": [
    "### There is a clear imbalance problem, therefore we will pass in SMOTE as part of our data preprocessing"
   ]
  },
  {
   "cell_type": "markdown",
   "metadata": {},
   "source": [
    "SMOTE creates synthetic points from the minority class in order to reach an equal balance between the minority and majority class."
   ]
  },
  {
   "cell_type": "markdown",
   "metadata": {},
   "source": [
    "## The first model we will experiment with is a Logistic Regression"
   ]
  },
  {
   "cell_type": "code",
   "execution_count": null,
   "metadata": {},
   "outputs": [],
   "source": [
    "# build preprocessing and model pipeline\n",
    "logreg_pipe = Pipeline(steps=[\n",
    "    (\"scale\", StandardScaler()),\n",
    "    (\"balance\", SMOTE()),\n",
    "    (\"model\", LogisticRegression(fit_intercept = False, solver='liblinear'))])"
   ]
  },
  {
   "cell_type": "code",
   "execution_count": null,
   "metadata": {},
   "outputs": [],
   "source": [
    "logreg_pipe = logreg_pipe.fit(X_train, y_train)"
   ]
  },
  {
   "cell_type": "code",
   "execution_count": 21,
   "metadata": {
    "scrolled": true
   },
   "outputs": [
    {
     "data": {
      "text/plain": [
       "LogisticRegression(C=1.0, class_weight=None, dual=False, fit_intercept=False,\n",
       "                   intercept_scaling=1, l1_ratio=None, max_iter=100,\n",
       "                   multi_class='warn', n_jobs=None, penalty='l2',\n",
       "                   random_state=None, solver='liblinear', tol=0.0001, verbose=0,\n",
       "                   warm_start=False)"
      ]
     },
     "execution_count": 21,
     "metadata": {},
     "output_type": "execute_result"
    }
   ],
   "source": [
    "#logreg_model = LogisticRegression(fit_intercept = False, solver='liblinear')\n",
    "#logreg_model.fit(X_train_resampled, y_train_resampled)"
   ]
  },
  {
   "cell_type": "code",
   "execution_count": null,
   "metadata": {
    "scrolled": false
   },
   "outputs": [],
   "source": [
    "fig, ax = plt.subplots(figsize=(15,8))\n",
    "plt.barh(cols, model_coefficients)"
   ]
  },
  {
   "cell_type": "code",
   "execution_count": null,
   "metadata": {},
   "outputs": [],
   "source": [
    "# save the model to disk\n",
    "payment_model = 'logreg_model.joblib'\n",
    "joblib.dump(logreg_pipe, payment_model)"
   ]
  },
  {
   "cell_type": "code",
   "execution_count": null,
   "metadata": {},
   "outputs": [],
   "source": [
    "# load the model from disk\n",
    "logreg_pipe = joblib.load(payment_model, mmap_mode=None)"
   ]
  },
  {
   "cell_type": "code",
   "execution_count": null,
   "metadata": {},
   "outputs": [],
   "source": [
    "## save the model to disk\n",
    "#payment_model = 'logreg_model.sav'\n",
    "#pickle.dump(logreg_model, open(payment_model, 'wb'))"
   ]
  },
  {
   "cell_type": "code",
   "execution_count": null,
   "metadata": {},
   "outputs": [],
   "source": [
    "## load the model from disk\n",
    "#logreg_model = pickle.load(open(payment_model, 'rb'))"
   ]
  },
  {
   "cell_type": "code",
   "execution_count": 22,
   "metadata": {},
   "outputs": [],
   "source": [
    "logreg_y_hat_preds = logreg_pipe.predict_proba(X_test)"
   ]
  },
  {
   "cell_type": "code",
   "execution_count": 24,
   "metadata": {},
   "outputs": [
    {
     "data": {
      "image/png": "[encoded data removed]",
      "text/plain": [
       "<Figure size 1080x576 with 1 Axes>"
      ]
     },
     "metadata": {
      "needs_background": "light"
     },
     "output_type": "display_data"
    }
   ],
   "source": [
    "fig, ax = plt.subplots(figsize=(15,8))\n",
    "ax.hist(logreg_y_hat_preds[:,1], bins=50)\n",
    "plt.title('Prediction Distribution for Logistic Regression and Random Forest')\n",
    "plt.legend(['Logistic Regression Prob Distribution', 'Random Forest Prob Distribution']);"
   ]
  },
  {
   "cell_type": "code",
   "execution_count": 39,
   "metadata": {},
   "outputs": [],
   "source": [
    "logreg_y_new_preds = np.array(logreg_y_hat_preds)[:,1] > .9"
   ]
  },
  {
   "cell_type": "code",
   "execution_count": 40,
   "metadata": {},
   "outputs": [
    {
     "name": "stdout",
     "output_type": "stream",
     "text": [
      "Testing Precision:  0.40022255192878337\n",
      "\n",
      "\n",
      "Testing Recall:  0.2687199070230782\n",
      "\n",
      "\n",
      "Testing Accuracy:  0.9480296147495454\n",
      "\n",
      "\n",
      "Testing F1-Score:  0.3215456441839674\n"
     ]
    }
   ],
   "source": [
    "from sklearn.metrics import precision_score, recall_score, accuracy_score, f1_score\n",
    "\n",
    "print('Testing Precision: ', precision_score(y_test, logreg_y_new_preds))\n",
    "print('\\n')\n",
    "\n",
    "print('Testing Recall: ', recall_score(y_test, logreg_y_new_preds))\n",
    "print('\\n')\n",
    "\n",
    "print('Testing Accuracy: ', accuracy_score(y_test, logreg_y_new_preds))\n",
    "print('\\n')\n",
    "\n",
    "print('Testing F1-Score: ',f1_score(y_test, logreg_y_new_preds))"
   ]
  },
  {
   "cell_type": "markdown",
   "metadata": {},
   "source": [
    "### Baseline model without any tunning to deal with class imbalance problem"
   ]
  },
  {
   "cell_type": "code",
   "execution_count": 41,
   "metadata": {},
   "outputs": [
    {
     "name": "stdout",
     "output_type": "stream",
     "text": [
      "AUC: 0.6246887466342365\n"
     ]
    },
    {
     "data": {
      "image/png": "[encoded data removed]",
      "text/plain": [
       "<Figure size 720x576 with 1 Axes>"
      ]
     },
     "metadata": {},
     "output_type": "display_data"
    }
   ],
   "source": [
    "#False positive Rate and true positive rate\n",
    "fpr, tpr, thresholds = roc_curve(y_test, logreg_y_new_preds)\n",
    "\n",
    "#Seaborns Beautiful Styling\n",
    "sns.set_style(\"darkgrid\", {\"axes.facecolor\": \".9\"})\n",
    "\n",
    "print('AUC: {}'.format(auc(fpr, tpr)))\n",
    "plt.figure(figsize=(10,8))\n",
    "lw = 2\n",
    "plt.plot(fpr, tpr, color='darkorange',\n",
    "         lw=lw, label='ROC curve')\n",
    "plt.plot([0, 1], [0, 1], color='navy', lw=lw, linestyle='--')\n",
    "plt.xlim([0.0, 1.0])\n",
    "plt.ylim([0.0, 1.05])\n",
    "plt.yticks([i/20.0 for i in range(21)])\n",
    "plt.xticks([i/20.0 for i in range(21)])\n",
    "plt.xlabel('False Positive Rate')\n",
    "plt.ylabel('True Positive Rate')\n",
    "plt.title('Receiver operating characteristic (ROC) Curve')\n",
    "plt.legend(loc=\"lower right\")\n",
    "plt.show()"
   ]
  },
  {
   "cell_type": "code",
   "execution_count": 42,
   "metadata": {},
   "outputs": [
    {
     "name": "stdout",
     "output_type": "stream",
     "text": [
      "Logistic Regression Confusion Matrix:\n",
      " [[245945   4851]\n",
      " [  8809   3237]]\n"
     ]
    }
   ],
   "source": [
    "from sklearn.metrics import confusion_matrix\n",
    "\n",
    "logreg_cnf_matrix = confusion_matrix(y_test, logreg_y_new_preds)\n",
    "classes = set(y)\n",
    "print('Logistic Regression Confusion Matrix:\\n',logreg_cnf_matrix)"
   ]
  },
  {
   "cell_type": "markdown",
   "metadata": {},
   "source": [
    "### Tunning to deal with class imbalance problem"
   ]
  },
  {
   "cell_type": "code",
   "execution_count": null,
   "metadata": {},
   "outputs": [],
   "source": [
    "#plot_confusion_matrix(cnf_matrix, classes, title='Confusion matrix', cmap=plt.cm.Blues)"
   ]
  },
  {
   "cell_type": "code",
   "execution_count": null,
   "metadata": {},
   "outputs": [],
   "source": [
    "# Compare a few different regularization performances:\n",
    "C_param_range = [0.001,0.01,0.1,1,10,100,1000,]\n",
    "names = [0.001,0.01,0.1,1,10,100]\n",
    "colors = sns.color_palette(\"Set2\")\n",
    "\n",
    "plt.figure(figsize=(10,8))\n",
    "\n",
    "for n, c in enumerate(C_param_range):\n",
    "    #Fit a model\n",
    "    logreg = LogisticRegression(fit_intercept = False, C = c,solver='liblinear') #Starter code\n",
    "    model_log = logreg.fit(X_train_sc, y_train)\n",
    "    print(model_log) #Preview model params\n",
    "\n",
    "    #Predict\n",
    "    y_hat_test = logreg.predict(X_test_sc)\n",
    "\n",
    "    y_score = logreg.fit(X_train_sc, y_train).decision_function(X_test_sc)\n",
    "\n",
    "    fpr, tpr, thresholds = roc_curve(y_test, y_score)\n",
    "    \n",
    "    print('AUC for {}: {}'.format(names[n], auc(fpr, tpr)))\n",
    "    lw = 2\n",
    "    plt.plot(fpr, tpr, color=colors[n],\n",
    "             lw=lw, label='ROC curve Normalization Weight: {}'.format(names[n]))\n",
    "plt.plot([0, 1], [0, 1], color='navy', lw=lw, linestyle='--')\n",
    "plt.xlim([0.0, 1.0])\n",
    "plt.ylim([0.0, 1.05])\n",
    "\n",
    "plt.yticks([i/20.0 for i in range(21)])\n",
    "plt.xticks([i/20.0 for i in range(21)])\n",
    "plt.xlabel('False Positive Rate')\n",
    "plt.ylabel('True Positive Rate')\n",
    "plt.title('Receiver operating characteristic (ROC) Curve')\n",
    "plt.legend(loc=\"lower right\")\n",
    "plt.show()"
   ]
  },
  {
   "cell_type": "markdown",
   "metadata": {},
   "source": [
    "Tunning seems to have a very meaningless effect on the baseline model"
   ]
  },
  {
   "cell_type": "markdown",
   "metadata": {},
   "source": [
    "## Random forest"
   ]
  },
  {
   "cell_type": "markdown",
   "metadata": {},
   "source": [
    "### Resampling the data given its noticeable imbalance problem"
   ]
  },
  {
   "cell_type": "code",
   "execution_count": 10,
   "metadata": {},
   "outputs": [
    {
     "name": "stdout",
     "output_type": "stream",
     "text": [
      "0.0    1003258\n",
      "1.0      48108\n",
      "Name: n_trans_made_in_measured_period, dtype: int64\n"
     ]
    },
    {
     "ename": "NameError",
     "evalue": "name 'y_train_resampled' is not defined",
     "output_type": "error",
     "traceback": [
      "\u001b[0;31m---------------------------------------------------------------------------\u001b[0m",
      "\u001b[0;31mNameError\u001b[0m                                 Traceback (most recent call last)",
      "\u001b[0;32m<ipython-input-10-fbef7898f5e4>\u001b[0m in \u001b[0;36m<module>\u001b[0;34m\u001b[0m\n\u001b[1;32m      1\u001b[0m \u001b[0mprint\u001b[0m\u001b[0;34m(\u001b[0m\u001b[0my\u001b[0m\u001b[0;34m.\u001b[0m\u001b[0mvalue_counts\u001b[0m\u001b[0;34m(\u001b[0m\u001b[0;34m)\u001b[0m\u001b[0;34m)\u001b[0m \u001b[0;31m#Previous original class distribution\u001b[0m\u001b[0;34m\u001b[0m\u001b[0;34m\u001b[0m\u001b[0m\n\u001b[0;32m----> 2\u001b[0;31m \u001b[0mprint\u001b[0m\u001b[0;34m(\u001b[0m\u001b[0mpd\u001b[0m\u001b[0;34m.\u001b[0m\u001b[0mSeries\u001b[0m\u001b[0;34m(\u001b[0m\u001b[0my_train_resampled\u001b[0m\u001b[0;34m)\u001b[0m\u001b[0;34m.\u001b[0m\u001b[0mvalue_counts\u001b[0m\u001b[0;34m(\u001b[0m\u001b[0;34m)\u001b[0m\u001b[0;34m)\u001b[0m \u001b[0;31m#Rebalanced original class distribution\u001b[0m\u001b[0;34m\u001b[0m\u001b[0;34m\u001b[0m\u001b[0m\n\u001b[0m",
      "\u001b[0;31mNameError\u001b[0m: name 'y_train_resampled' is not defined"
     ]
    }
   ],
   "source": [
    "print(y.value_counts()) #Previous original class distribution\n",
    "print(pd.Series(y_train_resampled).value_counts()) #Rebalanced original class distribution"
   ]
  },
  {
   "cell_type": "code",
   "execution_count": 11,
   "metadata": {},
   "outputs": [],
   "source": [
    "# build preprocessing and model pipeline\n",
    "ent_forest_pipe = Pipeline(steps=[\n",
    "    (\"scale\", StandardScaler()),\n",
    "    (\"balance\", SMOTE()),\n",
    "    (\"model\", RandomForestClassifier(n_estimators=10, criterion='gini'))])"
   ]
  },
  {
   "cell_type": "code",
   "execution_count": 12,
   "metadata": {},
   "outputs": [],
   "source": [
    "ent_forest_pipe = ent_forest_pipe.fit(X_train, y_train)"
   ]
  },
  {
   "cell_type": "code",
   "execution_count": 46,
   "metadata": {
    "scrolled": true
   },
   "outputs": [
    {
     "data": {
      "text/plain": [
       "RandomForestClassifier(bootstrap=True, class_weight=None, criterion='gini',\n",
       "                       max_depth=None, max_features='auto', max_leaf_nodes=None,\n",
       "                       min_impurity_decrease=0.0, min_impurity_split=None,\n",
       "                       min_samples_leaf=1, min_samples_split=2,\n",
       "                       min_weight_fraction_leaf=0.0, n_estimators=100,\n",
       "                       n_jobs=None, oob_score=False, random_state=None,\n",
       "                       verbose=0, warm_start=False)"
      ]
     },
     "execution_count": 46,
     "metadata": {},
     "output_type": "execute_result"
    }
   ],
   "source": [
    "#ent_forest = RandomForestClassifier(n_estimators=100, criterion='gini')\n",
    "#ent_forest.fit(X_train_resampled, y_train_resampled)"
   ]
  },
  {
   "cell_type": "code",
   "execution_count": null,
   "metadata": {},
   "outputs": [],
   "source": [
    "# save the model to disk\n",
    "forest_model = 'ent_forest.joblib'\n",
    "joblib.dump(ent_forest_pipe, forest_model)"
   ]
  },
  {
   "cell_type": "code",
   "execution_count": null,
   "metadata": {},
   "outputs": [],
   "source": [
    "# load the model from disk\n",
    "ent_forest_pipe = joblib.load(forest_model, mmap_mode=None)"
   ]
  },
  {
   "cell_type": "code",
   "execution_count": null,
   "metadata": {},
   "outputs": [],
   "source": [
    "## Save the model in the disk\n",
    "#forest_model = 'ent_forest.sav'\n",
    "#pickle.dump(ent_forest, open(forest_model, 'wb'))"
   ]
  },
  {
   "cell_type": "code",
   "execution_count": 68,
   "metadata": {},
   "outputs": [],
   "source": [
    "## load the model from disk\n",
    "#ent_forest_model = pickle.load(open('ent_forest.sav', 'rb'))"
   ]
  },
  {
   "cell_type": "code",
   "execution_count": 13,
   "metadata": {},
   "outputs": [],
   "source": [
    "ent_forest_y_hat_preds = ent_forest_pipe.predict_proba(X_test)"
   ]
  },
  {
   "cell_type": "code",
   "execution_count": 14,
   "metadata": {},
   "outputs": [
    {
     "data": {
      "image/png": "[encoded data removed]",
      "text/plain": [
       "<Figure size 1080x576 with 1 Axes>"
      ]
     },
     "metadata": {
      "needs_background": "light"
     },
     "output_type": "display_data"
    }
   ],
   "source": [
    "fig, ax = plt.subplots(figsize=(15,8))\n",
    "ax.hist(ent_forest_y_hat_preds[:,1], bins=50)\n",
    "plt.title('Prediction Distribution Random Forest')\n",
    "plt.legend(['Random Forest Prob Distribution']);"
   ]
  },
  {
   "cell_type": "markdown",
   "metadata": {},
   "source": [
    "__Given that random forests identifies feature interactions automatically, we can see that a particular feature is heavily driving the decision of whether a user is going to make a transaction or not in the future. It is imperative that this is looked into in order to make better models__ "
   ]
  },
  {
   "cell_type": "code",
   "execution_count": 15,
   "metadata": {},
   "outputs": [],
   "source": [
    "ent_forest_y_new_preds = np.array(ent_forest_y_hat_preds)[:,1] > 0.9"
   ]
  },
  {
   "cell_type": "code",
   "execution_count": 16,
   "metadata": {},
   "outputs": [
    {
     "name": "stdout",
     "output_type": "stream",
     "text": [
      "Testing Precision:  0.507321681624941\n",
      "\n",
      "\n",
      "Testing Recall:  0.0891582267972771\n",
      "\n",
      "\n",
      "Testing Accuracy:  0.9542881274682128\n",
      "\n",
      "\n",
      "Testing F1-Score:  0.15166278330862104\n"
     ]
    }
   ],
   "source": [
    "from sklearn.metrics import precision_score, recall_score, accuracy_score, f1_score\n",
    "\n",
    "print('Testing Precision: ', precision_score(y_test, ent_forest_y_new_preds))\n",
    "print('\\n')\n",
    "\n",
    "print('Testing Recall: ', recall_score(y_test, ent_forest_y_new_preds))\n",
    "print('\\n')\n",
    "\n",
    "print('Testing Accuracy: ', accuracy_score(y_test, ent_forest_y_new_preds))\n",
    "print('\\n')\n",
    "\n",
    "print('Testing F1-Score: ',f1_score(y_test, ent_forest_y_new_preds))"
   ]
  },
  {
   "cell_type": "code",
   "execution_count": 17,
   "metadata": {},
   "outputs": [
    {
     "name": "stdout",
     "output_type": "stream",
     "text": [
      "AUC: 0.5424997341421911\n"
     ]
    },
    {
     "data": {
      "image/png": "[encoded data removed]",
      "text/plain": [
       "<Figure size 720x576 with 1 Axes>"
      ]
     },
     "metadata": {},
     "output_type": "display_data"
    }
   ],
   "source": [
    "#False positive Rate and true positive rate\n",
    "fpr, tpr, thresholds = roc_curve(y_test, ent_forest_y_new_preds)\n",
    "\n",
    "#Seaborns Beautiful Styling\n",
    "sns.set_style(\"darkgrid\", {\"axes.facecolor\": \".9\"})\n",
    "\n",
    "print('AUC: {}'.format(auc(fpr, tpr)))\n",
    "plt.figure(figsize=(10,8))\n",
    "lw = 2\n",
    "plt.plot(fpr, tpr, color='darkorange',\n",
    "         lw=lw, label='ROC curve')\n",
    "plt.plot([0, 1], [0, 1], color='navy', lw=lw, linestyle='--')\n",
    "plt.xlim([0.0, 1.0])\n",
    "plt.ylim([0.0, 1.05])\n",
    "plt.yticks([i/20.0 for i in range(21)])\n",
    "plt.xticks([i/20.0 for i in range(21)])\n",
    "plt.xlabel('False Positive Rate')\n",
    "plt.ylabel('True Positive Rate')\n",
    "plt.title('Receiver operating characteristic (ROC) Curve')\n",
    "plt.legend(loc=\"lower right\")\n",
    "plt.show()"
   ]
  },
  {
   "cell_type": "code",
   "execution_count": 18,
   "metadata": {},
   "outputs": [
    {
     "name": "stdout",
     "output_type": "stream",
     "text": [
      "Random Forest Confusion Matrix:\n",
      " [[249753   1043]\n",
      " [ 10972   1074]]\n"
     ]
    }
   ],
   "source": [
    "ent_forest_cnf_matrix = confusion_matrix(y_test, ent_forest_y_new_preds)\n",
    "classes = set(y)\n",
    "print('Random Forest Confusion Matrix:\\n', ent_forest_cnf_matrix)"
   ]
  },
  {
   "cell_type": "code",
   "execution_count": 19,
   "metadata": {},
   "outputs": [
    {
     "name": "stdout",
     "output_type": "stream",
     "text": [
      "              precision    recall  f1-score   support\n",
      "\n",
      "         0.0       0.96      1.00      0.98    250796\n",
      "         1.0       0.51      0.09      0.15     12046\n",
      "\n",
      "    accuracy                           0.95    262842\n",
      "   macro avg       0.73      0.54      0.56    262842\n",
      "weighted avg       0.94      0.95      0.94    262842\n",
      "\n"
     ]
    }
   ],
   "source": [
    "print(classification_report(y_test, ent_forest_y_new_preds))"
   ]
  },
  {
   "cell_type": "code",
   "execution_count": null,
   "metadata": {
    "scrolled": true
   },
   "outputs": [],
   "source": [
    "ent_forest_model.score(X_train_sc, y_train)"
   ]
  },
  {
   "cell_type": "code",
   "execution_count": null,
   "metadata": {},
   "outputs": [],
   "source": [
    "ent_forest_model.score(X_test_sc, y_test)"
   ]
  },
  {
   "cell_type": "code",
   "execution_count": 88,
   "metadata": {},
   "outputs": [],
   "source": [
    "def plot_feature_importances(X, X_train, model):\n",
    "    \"\"\"Function that plots a barchart of the individual features and \n",
    "    their corresponding feature importance.\"\"\"\n",
    "    n_features = X_train.shape[1]\n",
    "    plt.figure(figsize=(12, 10))\n",
    "    features = list(zip(X.columns, model.feature_importances_))\n",
    "    sorted_features = sorted(features, key=lambda x: x[1])   \n",
    "    sorted_imp = [imp[1] for imp in sorted_features if imp[1] > 0.004]\n",
    "    sorted_fts = [fts[0] for fts in sorted_features if fts[1] > 0.004]\n",
    "    plt.barh(range(len(sorted_imp)), sorted_imp, align='center')\n",
    "    plt.yticks(np.arange(len(sorted_fts)), sorted_fts)\n",
    "    plt.xlabel(\"Feature importance\")\n",
    "    plt.ylabel(\"Feature\")\n",
    "    plt.title(\"Decision tree features where importance is more than 0.04%\")\n",
    "    return plt.show()"
   ]
  },
  {
   "cell_type": "code",
   "execution_count": 89,
   "metadata": {
    "scrolled": false
   },
   "outputs": [
    {
     "data": {
      "image/png": "[encoded data removed]",
      "text/plain": [
       "<Figure size 864x720 with 1 Axes>"
      ]
     },
     "metadata": {},
     "output_type": "display_data"
    }
   ],
   "source": [
    "plot_feature_importances(X, X_train_resampled, ent_forest_model)"
   ]
  },
  {
   "cell_type": "markdown",
   "metadata": {},
   "source": [
    "## Training new model with only the required features"
   ]
  },
  {
   "cell_type": "code",
   "execution_count": 11,
   "metadata": {},
   "outputs": [],
   "source": [
    "column_to_be_dropped = (['personalised_bio', 'mentions', 'likes', 'comments', 'unsettled',\n",
    "                         'max_time_diff_received_trans', 'mean_time_diff_received_trans',\n",
    "                         'n_trans_rec_yest', 'trans_rec_week', 'trans_rec_weeknd', 'user_id',\n",
    "                         'n_trans_made_in_measured_period', 'n_trans_made_to_diff_users',\n",
    "                         'n_trans_made_yest'])"
   ]
  },
  {
   "cell_type": "code",
   "execution_count": 12,
   "metadata": {},
   "outputs": [],
   "source": [
    "X_reduced = complete_table.drop(column_to_be_dropped, axis=1)\n",
    "y = complete_table['n_trans_made_in_measured_period']"
   ]
  },
  {
   "cell_type": "code",
   "execution_count": 13,
   "metadata": {},
   "outputs": [
    {
     "name": "stdout",
     "output_type": "stream",
     "text": [
      "<class 'pandas.core.frame.DataFrame'>\n",
      "Int64Index: 1051366 entries, 0 to 1051365\n",
      "Data columns (total 28 columns):\n",
      "time_since_account_inception    1051366 non-null float64\n",
      "0                               1051366 non-null float64\n",
      "1                               1051366 non-null float64\n",
      "2                               1051366 non-null float64\n",
      "3                               1051366 non-null float64\n",
      "4                               1051366 non-null float64\n",
      "5                               1051366 non-null float64\n",
      "6                               1051366 non-null float64\n",
      "7                               1051366 non-null float64\n",
      "8                               1051366 non-null float64\n",
      "9                               1051366 non-null float64\n",
      "10                              1051366 non-null float64\n",
      "11                              1051366 non-null float64\n",
      "12                              1051366 non-null float64\n",
      "13                              1051366 non-null float64\n",
      "14                              1051366 non-null float64\n",
      "15                              1051366 non-null float64\n",
      "16                              1051366 non-null float64\n",
      "17                              1051366 non-null float64\n",
      "18                              1051366 non-null float64\n",
      "19                              1051366 non-null float64\n",
      "max_time_diff_made_trans        1051366 non-null float64\n",
      "mean_time_diff_made_trans       1051366 non-null float64\n",
      "n_transactions_made             1051366 non-null float64\n",
      "trans_made_week                 1051366 non-null float64\n",
      "trans_made_weeknd               1051366 non-null float64\n",
      "n_transactions_received         1051366 non-null float64\n",
      "trans_rec_from_diff_users       1051366 non-null float64\n",
      "dtypes: float64(28)\n",
      "memory usage: 232.6 MB\n"
     ]
    }
   ],
   "source": [
    "X_reduced.info()"
   ]
  },
  {
   "cell_type": "code",
   "execution_count": 66,
   "metadata": {},
   "outputs": [],
   "source": [
    "X_train_red, X_test_red, y_train, y_test = train_test_split(X_reduced, y, random_state=42)"
   ]
  },
  {
   "cell_type": "markdown",
   "metadata": {},
   "source": [
    "## Building the model's pipeline"
   ]
  },
  {
   "cell_type": "code",
   "execution_count": 43,
   "metadata": {},
   "outputs": [],
   "source": [
    "from imblearn.pipeline import Pipeline\n",
    "# build preprocessing and model pipeline\n",
    "red_forest_pipe = Pipeline(steps=[\n",
    "    (\"scale\", StandardScaler()),\n",
    "    (\"balance\", SMOTE()),\n",
    "    (\"model\", RandomForestClassifier(n_estimators=100, criterion='gini'))])"
   ]
  },
  {
   "cell_type": "code",
   "execution_count": null,
   "metadata": {},
   "outputs": [],
   "source": [
    "red_forest_pipe = red_forest_pipe.fit(X_train_red, y_train)"
   ]
  },
  {
   "cell_type": "code",
   "execution_count": 60,
   "metadata": {},
   "outputs": [
    {
     "data": {
      "text/plain": [
       "['red_forest_pipe.joblib']"
      ]
     },
     "execution_count": 60,
     "metadata": {},
     "output_type": "execute_result"
    }
   ],
   "source": [
    "# save the model to disk\n",
    "red_forest_model = 'red_forest_pipe.joblib'\n",
    "joblib.dump(red_forest_pipe, red_forest_model)"
   ]
  },
  {
   "cell_type": "code",
   "execution_count": 61,
   "metadata": {},
   "outputs": [],
   "source": [
    "# load the model from disk\n",
    "red_forest_pipe = joblib.load(red_forest_model, mmap_mode=None)"
   ]
  },
  {
   "cell_type": "code",
   "execution_count": 168,
   "metadata": {},
   "outputs": [],
   "source": [
    "## Save the model in the disk\n",
    "#payments = 'red_ent_forest.sav'\n",
    "#pickle.dump(red_ent_forest, open(payments, 'wb'))"
   ]
  },
  {
   "cell_type": "code",
   "execution_count": null,
   "metadata": {},
   "outputs": [],
   "source": [
    "## load the model from disk\n",
    "#red_ent_forest_model = pickle.load(open(payments, 'rb'))"
   ]
  },
  {
   "cell_type": "code",
   "execution_count": 87,
   "metadata": {},
   "outputs": [],
   "source": [
    "new_user = {}\n",
    "new_user['time_since_account_inception'] = 5.48448e+08\n",
    "new_user['n_transactions_made'] = 2\n",
    "new_user['n_transactions_made_during_weekend'] = 0\n",
    "new_user['n_transactions_made_during_week'] = 2\n",
    "new_user['n_transactions_rec'] = 1\n",
    "new_user['transactions_rec_from_diff_users'] = 1\n",
    "new_user['max_time_between_transactions'] = 525343\n",
    "new_user['mean_time_between_transactions'] = 525343"
   ]
  },
  {
   "cell_type": "code",
   "execution_count": 98,
   "metadata": {},
   "outputs": [],
   "source": [
    "import regex\n",
    "import nltk\n",
    "from nltk.stem.wordnet import WordNetLemmatizer\n",
    "from nltk import FreqDist\n",
    "from nltk import word_tokenize\n",
    "from nltk.corpus import stopwords, wordnet\n",
    "import gensim\n",
    "from gensim.utils import simple_preprocess\n",
    "from gensim import corpora\n",
    "from gensim.models.doc2vec import Doc2Vec, TaggedDocument\n",
    "import string"
   ]
  },
  {
   "cell_type": "code",
   "execution_count": 99,
   "metadata": {},
   "outputs": [],
   "source": [
    "# Dealing with the text aspect\n",
    "def get_clean_text_pattern(recomposed_note):\n",
    "    \"\"\"Function that filters through the notes, retrieves those that match\n",
    "     the specified pattern and removes stopwords.\"\"\"\n",
    "    pattern = \"([a-zA-Z0-9\\\\\\]+(?:'[a-z]+)?)\"\n",
    "    recomposed_note_raw = nltk.regexp_tokenize(recomposed_note, pattern)\n",
    "    # Create a list of stopwords and remove them from our corpus\n",
    "    stopwords_list = stopwords.words('english')\n",
    "    stopwords_list += list(string.punctuation)\n",
    "    # additional slang and informal versions of the original words had to be added to the corpus.\n",
    "    stopwords_list += ([\"im\", \"ur\", \"u\", \"'s\", \"n\", \"z\", \"n't\", \"brewskies\", \"mcd’s\", \"Ty$\",\n",
    "                        \"Diploooooo\", \"thx\", \"Clothessss\", \"K2\", \"B\", \"Comida\", \"yo\", \"jobby\",\n",
    "                        \"F\", \"jus\", \"bc\", \"queso\", \"fil\", \"Lol\", \"EZ\", \"RF\", \"기프트카드\", \"감사합니다\",\n",
    "                        \"Bts\", \"youuuu\", \"X’s\", \"bday\", \"WF\", \"Fooooood\", \"Yeeeeehaw\", \"temp\",\n",
    "                        \"af\", \"Chipoodle\", \"Hhuhhyhy\", \"Yummmmers\", \"MGE\", \"O\", \"Coook\", \"wahoooo\",\n",
    "                        \"Cuz\", \"y\", \"Cutz\", \"Lax\", \"LisBnB\", \"vamanos\", \"vroom\", \"Para\", \"el\", \"8==\",\n",
    "                        \"bitchhh\", \"¯\\\\_(ツ)_/¯\", \"Ily\", \"CURRYYYYYYY\", \"Depósito\", \"Yup\", \"Shhhhh\"])\n",
    "\n",
    "    recomposed_note_stopped = ([w.lower() for w in recomposed_note_raw if w not in stopwords_list])\n",
    "    return recomposed_note_stopped"
   ]
  },
  {
   "cell_type": "code",
   "execution_count": 100,
   "metadata": {},
   "outputs": [],
   "source": [
    "def get_wordnet_pos(word):\n",
    "    \"\"\"Map POS tag to first character lemmatize() accepts\"\"\"\n",
    "    tag = nltk.pos_tag([word])[0][1][0].upper()\n",
    "    tag_dict = {\"J\": wordnet.ADJ,\n",
    "                \"N\": wordnet.NOUN,\n",
    "                \"V\": wordnet.VERB,\n",
    "                \"R\": wordnet.ADV}\n",
    "\n",
    "    return tag_dict.get(tag, wordnet.NOUN)\n"
   ]
  },
  {
   "cell_type": "code",
   "execution_count": 101,
   "metadata": {},
   "outputs": [],
   "source": [
    "def lemmatize_notes(recomposed_note_stopped):\n",
    "    \"Function that lemmatizes the different notes.\"\n",
    "    # Init Lemmatizer\n",
    "    lemmatizer = WordNetLemmatizer()\n",
    "    lemmatized_notes = []\n",
    "    for sentence in recomposed_note_stopped:\n",
    "        for word in nltk.word_tokenize(sentence):\n",
    "            lem = lemmatizer.lemmatize(word, get_wordnet_pos(word))\n",
    "            lemmatized_notes.append(lem)\n",
    "    return lemmatized_notes"
   ]
  },
  {
   "cell_type": "code",
   "execution_count": 102,
   "metadata": {
    "scrolled": true
   },
   "outputs": [],
   "source": [
    "# Dealing with the text aspect\n",
    "recomposed_note_stopped = get_clean_text_pattern('Thank god we got a ride')\n",
    "lemmatized_notes = lemmatize_notes(recomposed_note_stopped)\n",
    "# Load the vectorizer model\n",
    "vectorizer = Doc2Vec.load(\"d2v.model\")\n",
    "# Find the vectors for each note in the whole note corpus\n",
    "_vectrs = np.array(vectorizer.infer_vector(lemmatized_notes))\n",
    "for i in range(len(_vectrs)):\n",
    "    new_user[f'text_vector_{i}'] = _vectrs[i]"
   ]
  },
  {
   "cell_type": "code",
   "execution_count": 105,
   "metadata": {
    "scrolled": true
   },
   "outputs": [],
   "source": [
    "new_user_df = pd.DataFrame([new_user])"
   ]
  },
  {
   "cell_type": "code",
   "execution_count": 106,
   "metadata": {},
   "outputs": [
    {
     "data": {
      "text/html": [
       "<div>\n",
       "<style scoped>\n",
       "    .dataframe tbody tr th:only-of-type {\n",
       "        vertical-align: middle;\n",
       "    }\n",
       "\n",
       "    .dataframe tbody tr th {\n",
       "        vertical-align: top;\n",
       "    }\n",
       "\n",
       "    .dataframe thead th {\n",
       "        text-align: right;\n",
       "    }\n",
       "</style>\n",
       "<table border=\"1\" class=\"dataframe\">\n",
       "  <thead>\n",
       "    <tr style=\"text-align: right;\">\n",
       "      <th></th>\n",
       "      <th>time_since_account_inception</th>\n",
       "      <th>n_transactions_made</th>\n",
       "      <th>n_transactions_made_during_weekend</th>\n",
       "      <th>n_transactions_made_during_week</th>\n",
       "      <th>n_transactions_rec</th>\n",
       "      <th>transactions_rec_from_diff_users</th>\n",
       "      <th>max_time_between_transactions</th>\n",
       "      <th>mean_time_between_transactions</th>\n",
       "      <th>text_vector_0</th>\n",
       "      <th>text_vector_1</th>\n",
       "      <th>...</th>\n",
       "      <th>text_vector_10</th>\n",
       "      <th>text_vector_11</th>\n",
       "      <th>text_vector_12</th>\n",
       "      <th>text_vector_13</th>\n",
       "      <th>text_vector_14</th>\n",
       "      <th>text_vector_15</th>\n",
       "      <th>text_vector_16</th>\n",
       "      <th>text_vector_17</th>\n",
       "      <th>text_vector_18</th>\n",
       "      <th>text_vector_19</th>\n",
       "    </tr>\n",
       "  </thead>\n",
       "  <tbody>\n",
       "    <tr>\n",
       "      <td>0</td>\n",
       "      <td>548448000.0</td>\n",
       "      <td>2</td>\n",
       "      <td>0</td>\n",
       "      <td>2</td>\n",
       "      <td>1</td>\n",
       "      <td>1</td>\n",
       "      <td>525343</td>\n",
       "      <td>525343</td>\n",
       "      <td>0.567829</td>\n",
       "      <td>-0.125577</td>\n",
       "      <td>...</td>\n",
       "      <td>-0.548474</td>\n",
       "      <td>-1.381222</td>\n",
       "      <td>0.38674</td>\n",
       "      <td>0.012948</td>\n",
       "      <td>-0.385442</td>\n",
       "      <td>-0.399037</td>\n",
       "      <td>0.13569</td>\n",
       "      <td>-0.484854</td>\n",
       "      <td>-0.346855</td>\n",
       "      <td>-1.092214</td>\n",
       "    </tr>\n",
       "  </tbody>\n",
       "</table>\n",
       "<p>1 rows × 28 columns</p>\n",
       "</div>"
      ],
      "text/plain": [
       "   time_since_account_inception  n_transactions_made  \\\n",
       "0                   548448000.0                    2   \n",
       "\n",
       "   n_transactions_made_during_weekend  n_transactions_made_during_week  \\\n",
       "0                                   0                                2   \n",
       "\n",
       "   n_transactions_rec  transactions_rec_from_diff_users  \\\n",
       "0                   1                                 1   \n",
       "\n",
       "   max_time_between_transactions  mean_time_between_transactions  \\\n",
       "0                         525343                          525343   \n",
       "\n",
       "   text_vector_0  text_vector_1  ...  text_vector_10  text_vector_11  \\\n",
       "0       0.567829      -0.125577  ...       -0.548474       -1.381222   \n",
       "\n",
       "   text_vector_12  text_vector_13  text_vector_14  text_vector_15  \\\n",
       "0         0.38674        0.012948       -0.385442       -0.399037   \n",
       "\n",
       "   text_vector_16  text_vector_17  text_vector_18  text_vector_19  \n",
       "0         0.13569       -0.484854       -0.346855       -1.092214  \n",
       "\n",
       "[1 rows x 28 columns]"
      ]
     },
     "execution_count": 106,
     "metadata": {},
     "output_type": "execute_result"
    }
   ],
   "source": [
    "new_user_df"
   ]
  },
  {
   "cell_type": "code",
   "execution_count": 48,
   "metadata": {},
   "outputs": [],
   "source": [
    "red_ent_forest_y_hat_preds = red_forest_pipe.predict_proba(X_test)"
   ]
  },
  {
   "cell_type": "code",
   "execution_count": 107,
   "metadata": {},
   "outputs": [
    {
     "data": {
      "text/plain": [
       "array([[0.7, 0.3]])"
      ]
     },
     "execution_count": 107,
     "metadata": {},
     "output_type": "execute_result"
    }
   ],
   "source": [
    "red_forest_pipe.predict_proba(new_user_df)"
   ]
  },
  {
   "cell_type": "code",
   "execution_count": 49,
   "metadata": {
    "scrolled": false
   },
   "outputs": [
    {
     "data": {
      "image/png": "[encoded data removed]",
      "text/plain": [
       "<Figure size 1080x576 with 1 Axes>"
      ]
     },
     "metadata": {
      "needs_background": "light"
     },
     "output_type": "display_data"
    }
   ],
   "source": [
    "fig, ax = plt.subplots(figsize=(15,8))\n",
    "ax.hist(red_ent_forest_y_hat_preds[:,1], bins=50)\n",
    "plt.title('Prediction Distribution for Random Forest');"
   ]
  },
  {
   "cell_type": "code",
   "execution_count": 50,
   "metadata": {},
   "outputs": [],
   "source": [
    "red_ent_forest_y_new_preds = np.array(red_ent_forest_y_hat_preds)[:,1] > .9"
   ]
  },
  {
   "cell_type": "code",
   "execution_count": 51,
   "metadata": {},
   "outputs": [
    {
     "name": "stdout",
     "output_type": "stream",
     "text": [
      "Testing Precision:  0.5460420032310178\n",
      "\n",
      "\n",
      "Testing Recall:  0.11223642702971941\n",
      "\n",
      "\n",
      "Testing Accuracy:  0.9550376271676521\n",
      "\n",
      "\n",
      "Testing F1-Score:  0.18620024789973832\n"
     ]
    }
   ],
   "source": [
    "print('Testing Precision: ', precision_score(y_test, red_ent_forest_y_new_preds))\n",
    "print('\\n')\n",
    "\n",
    "print('Testing Recall: ', recall_score(y_test, red_ent_forest_y_new_preds))\n",
    "print('\\n')\n",
    "\n",
    "print('Testing Accuracy: ', accuracy_score(y_test, red_ent_forest_y_new_preds))\n",
    "print('\\n')\n",
    "\n",
    "print('Testing F1-Score: ',f1_score(y_test, red_ent_forest_y_new_preds))"
   ]
  },
  {
   "cell_type": "code",
   "execution_count": 52,
   "metadata": {
    "scrolled": true
   },
   "outputs": [
    {
     "name": "stdout",
     "output_type": "stream",
     "text": [
      "Random Forest Confusion Matrix:\n",
      " [[249672   1124]\n",
      " [ 10694   1352]]\n"
     ]
    }
   ],
   "source": [
    "red_ent_forest_cnf_matrix = confusion_matrix(y_test, red_ent_forest_y_new_preds)\n",
    "classes = set(y)\n",
    "print('Random Forest Confusion Matrix:\\n', red_ent_forest_cnf_matrix)"
   ]
  },
  {
   "cell_type": "code",
   "execution_count": 53,
   "metadata": {},
   "outputs": [
    {
     "name": "stdout",
     "output_type": "stream",
     "text": [
      "              precision    recall  f1-score   support\n",
      "\n",
      "         0.0       0.96      1.00      0.98    250796\n",
      "         1.0       0.55      0.11      0.19     12046\n",
      "\n",
      "    accuracy                           0.96    262842\n",
      "   macro avg       0.75      0.55      0.58    262842\n",
      "weighted avg       0.94      0.96      0.94    262842\n",
      "\n"
     ]
    }
   ],
   "source": [
    "print(classification_report(y_test, red_ent_forest_y_new_preds))"
   ]
  },
  {
   "cell_type": "code",
   "execution_count": null,
   "metadata": {},
   "outputs": [],
   "source": [
    "_response = [('time_since_account_inception', '20 March 2014'), ('n_transactions_made_last_week', '2'),\n",
    "             ('n_transactions_made_yesterday', '0'), ('n_transactions_made_during_weekend', '1'),\n",
    "             ('n_transactions_made_to_diff_users', '1'), ('max_time_between_transactions', '5'),\n",
    "             ('unsuccesful_transactions', '0'), ('description', 'food')]"
   ]
  },
  {
   "cell_type": "code",
   "execution_count": null,
   "metadata": {},
   "outputs": [],
   "source": [
    "for response in _response:\n",
    "    print(response)"
   ]
  },
  {
   "cell_type": "code",
   "execution_count": null,
   "metadata": {},
   "outputs": [],
   "source": [
    "complete_table = pd.merge(user_statistics, tran_or_not_df, 'left', on='user_id')\n",
    "complete_table.fillna(0, inplace=True)"
   ]
  },
  {
   "cell_type": "code",
   "execution_count": null,
   "metadata": {},
   "outputs": [],
   "source": [
    "complete_table"
   ]
  },
  {
   "cell_type": "code",
   "execution_count": null,
   "metadata": {},
   "outputs": [],
   "source": [
    "people_with_trans = complete_table.loc[complete_table['n_trans_made_in_measured_period'] != 0]"
   ]
  },
  {
   "cell_type": "code",
   "execution_count": null,
   "metadata": {},
   "outputs": [],
   "source": [
    "people_with_trans['time_since_account_inception'].value_counts()"
   ]
  }
 ],
 "metadata": {
  "kernelspec": {
   "display_name": "Python 3",
   "language": "python",
   "name": "python3"
  },
  "language_info": {
   "codemirror_mode": {
    "name": "ipython",
    "version": 3
   },
   "file_extension": ".py",
   "mimetype": "text/x-python",
   "name": "python",
   "nbconvert_exporter": "python",
   "pygments_lexer": "ipython3",
   "version": "3.6.9"
  }
 },
 "nbformat": 4,
 "nbformat_minor": 2
}
